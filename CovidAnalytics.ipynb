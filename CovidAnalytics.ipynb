{
 "cells": [
  {
   "cell_type": "markdown",
   "metadata": {},
   "source": [
    " # **Covid 19 Analysis Dashboard**"
   ]
  },
  {
   "cell_type": "code",
   "execution_count": 2,
   "metadata": {
    "id": "j7KRuVcD_Evj"
   },
   "outputs": [],
   "source": [
    "# importing libraries\n",
    "from __future__ import print_function\n",
    "from ipywidgets import interact, interactive, fixed, interact_manual\n",
    "from IPython.core.display import display, HTML\n",
    "\n",
    "import numpy as np\n",
    "import pandas as pd\n",
    "import matplotlib.pyplot as plt\n",
    "import plotly.express as px #The plotly.express module is plotly’s high-level API for rapid figure generation.\n",
    "import folium\n",
    "import plotly.graph_objects as go #The primary classes defined in the plotly.graph_objects module are Figure and an ipywidgets-compatible variant called FigureWidget, which both represent entire figures.\n",
    "import seaborn as sns\n",
    "import ipywidgets as widgets #interactive HTML widgets for Jupyter notebooks"
   ]
  },
  {
   "cell_type": "code",
   "execution_count": 3,
   "metadata": {
    "id": "AtuCplqjA6tw"
   },
   "outputs": [],
   "source": [
    "# loading data from the source and creating required dataframes:\n",
    "death_df = pd.read_csv('https://raw.githubusercontent.com/CSSEGISandData/COVID-19/master/csse_covid_19_data/csse_covid_19_time_series/time_series_covid19_deaths_global.csv')\n",
    "confirmed_df = pd.read_csv('https://raw.githubusercontent.com/CSSEGISandData/COVID-19/master/csse_covid_19_data/csse_covid_19_time_series/time_series_covid19_confirmed_global.csv')\n",
    "recovered_df = pd.read_csv('https://raw.githubusercontent.com/CSSEGISandData/COVID-19/master/csse_covid_19_data/csse_covid_19_time_series/time_series_covid19_recovered_global.csv')\n",
    "country_df = pd.read_csv('https://raw.githubusercontent.com/CSSEGISandData/COVID-19/web-data/data/cases_country.csv')"
   ]
  },
  {
   "cell_type": "markdown",
   "metadata": {},
   "source": [
    "## Data Frame used"
   ]
  },
  {
   "cell_type": "code",
   "execution_count": 4,
   "metadata": {
    "colab": {
     "base_uri": "https://localhost:8080/",
     "height": 1000
    },
    "id": "gmlCeWkwBhs7",
    "outputId": "0f57eaf6-d0cb-4701-e7e1-df4b1732e34a"
   },
   "outputs": [
    {
     "data": {
      "text/html": [
       "<div>\n",
       "<style scoped>\n",
       "    .dataframe tbody tr th:only-of-type {\n",
       "        vertical-align: middle;\n",
       "    }\n",
       "\n",
       "    .dataframe tbody tr th {\n",
       "        vertical-align: top;\n",
       "    }\n",
       "\n",
       "    .dataframe thead th {\n",
       "        text-align: right;\n",
       "    }\n",
       "</style>\n",
       "<table border=\"1\" class=\"dataframe\">\n",
       "  <thead>\n",
       "    <tr style=\"text-align: right;\">\n",
       "      <th></th>\n",
       "      <th>Country_Region</th>\n",
       "      <th>Last_Update</th>\n",
       "      <th>Confirmed</th>\n",
       "      <th>Deaths</th>\n",
       "      <th>Mortality_Rate</th>\n",
       "      <th>UID</th>\n",
       "      <th>Cases_28_Days</th>\n",
       "      <th>Deaths_28_Days</th>\n",
       "    </tr>\n",
       "  </thead>\n",
       "  <tbody>\n",
       "    <tr>\n",
       "      <th>0</th>\n",
       "      <td>Afghanistan</td>\n",
       "      <td>2021-12-08 09:21:25</td>\n",
       "      <td>157508</td>\n",
       "      <td>7317</td>\n",
       "      <td>4.645478</td>\n",
       "      <td>4</td>\n",
       "      <td>1111</td>\n",
       "      <td>27</td>\n",
       "    </tr>\n",
       "    <tr>\n",
       "      <th>1</th>\n",
       "      <td>Albania</td>\n",
       "      <td>2021-12-08 09:21:25</td>\n",
       "      <td>202295</td>\n",
       "      <td>3122</td>\n",
       "      <td>1.543291</td>\n",
       "      <td>8</td>\n",
       "      <td>12170</td>\n",
       "      <td>152</td>\n",
       "    </tr>\n",
       "    <tr>\n",
       "      <th>2</th>\n",
       "      <td>Algeria</td>\n",
       "      <td>2021-12-08 09:21:25</td>\n",
       "      <td>211859</td>\n",
       "      <td>6114</td>\n",
       "      <td>2.885882</td>\n",
       "      <td>12</td>\n",
       "      <td>4474</td>\n",
       "      <td>160</td>\n",
       "    </tr>\n",
       "    <tr>\n",
       "      <th>3</th>\n",
       "      <td>Andorra</td>\n",
       "      <td>2021-12-08 09:21:25</td>\n",
       "      <td>18815</td>\n",
       "      <td>133</td>\n",
       "      <td>0.706883</td>\n",
       "      <td>20</td>\n",
       "      <td>3098</td>\n",
       "      <td>3</td>\n",
       "    </tr>\n",
       "    <tr>\n",
       "      <th>4</th>\n",
       "      <td>Angola</td>\n",
       "      <td>2021-12-08 09:21:25</td>\n",
       "      <td>65301</td>\n",
       "      <td>1735</td>\n",
       "      <td>2.656927</td>\n",
       "      <td>24</td>\n",
       "      <td>539</td>\n",
       "      <td>12</td>\n",
       "    </tr>\n",
       "  </tbody>\n",
       "</table>\n",
       "</div>"
      ],
      "text/plain": [
       "  Country_Region          Last_Update  Confirmed  Deaths  Mortality_Rate  UID  \\\n",
       "0    Afghanistan  2021-12-08 09:21:25     157508    7317        4.645478    4   \n",
       "1        Albania  2021-12-08 09:21:25     202295    3122        1.543291    8   \n",
       "2        Algeria  2021-12-08 09:21:25     211859    6114        2.885882   12   \n",
       "3        Andorra  2021-12-08 09:21:25      18815     133        0.706883   20   \n",
       "4         Angola  2021-12-08 09:21:25      65301    1735        2.656927   24   \n",
       "\n",
       "   Cases_28_Days  Deaths_28_Days  \n",
       "0           1111              27  \n",
       "1          12170             152  \n",
       "2           4474             160  \n",
       "3           3098               3  \n",
       "4            539              12  "
      ]
     },
     "execution_count": 4,
     "metadata": {},
     "output_type": "execute_result"
    }
   ],
   "source": [
    "country_df=country_df.dropna(axis=1) #dropping columns with Nan values\n",
    "country_df.head(5)"
   ]
  },
  {
   "cell_type": "code",
   "execution_count": 5,
   "metadata": {
    "id": "nh1vAopLBjmn"
   },
   "outputs": [],
   "source": [
    "# data cleaning\n",
    "\n",
    "# renaming the dataframe column names to lowercase\n",
    "country_df.columns = map(str.lower, country_df.columns)\n",
    "confirmed_df.columns = map(str.lower, confirmed_df.columns)\n",
    "death_df.columns = map(str.lower, death_df.columns)\n",
    "recovered_df.columns = map(str.lower, recovered_df.columns)\n",
    "\n",
    "# changing province/state to state and country/region to country\n",
    "confirmed_df = confirmed_df.rename(columns={'province/state': 'state', 'country/region': 'country'})\n",
    "recovered_df = recovered_df.rename(columns={'province/state': 'state', 'country/region': 'country'})\n",
    "death_df = death_df.rename(columns={'province/state': 'state', 'country/region': 'country'})\n",
    "country_df = country_df.rename(columns={'country_region': 'country'})"
   ]
  },
  {
   "cell_type": "code",
   "execution_count": 6,
   "metadata": {
    "id": "f2FIVJyEBsNw"
   },
   "outputs": [],
   "source": [
    "#calculating total number of confirmed cases and deaths\n",
    "confirmed_total = int(country_df['confirmed'].sum())\n",
    "deaths_total = int(country_df['deaths'].sum())\n"
   ]
  },
  {
   "cell_type": "markdown",
   "metadata": {},
   "source": [
    "## Total World Stats"
   ]
  },
  {
   "cell_type": "code",
   "execution_count": 7,
   "metadata": {
    "colab": {
     "base_uri": "https://localhost:8080/",
     "height": 121
    },
    "id": "Xh81R5MXCV0Y",
    "outputId": "ef8ada2f-cc33-4d29-f2f7-5ac401038f09"
   },
   "outputs": [
    {
     "data": {
      "text/html": [
       "<div style = 'background-color: #504e4e; padding: 30px '><span style='color: yellow; font-size:35px;'> Confirmed: 267244972</span><span style='color: maroon; font-size:35px;margin-left:20px;'> Deaths: 5273641</span></div>"
      ],
      "text/plain": [
       "<IPython.core.display.HTML object>"
      ]
     },
     "metadata": {},
     "output_type": "display_data"
    }
   ],
   "source": [
    "# displaying the total stats using basic html code\n",
    "\n",
    "#span style is used to color a part of text\n",
    "display(HTML(\"<div style = 'background-color: #504e4e; padding: 30px '>\" +\n",
    "             \"<span style='color: yellow; font-size:35px;'> Confirmed: \"  + str(confirmed_total) +\"</span>\" +\n",
    "             \"<span style='color: maroon; font-size:35px;margin-left:20px;'> Deaths: \" + str(deaths_total) + \"</span>\"+\n",
    "             \"</div>\")\n",
    "       )"
   ]
  },
  {
   "cell_type": "markdown",
   "metadata": {},
   "source": [
    "## Worst hit countries (sorted on the basis of total confirmed cases)\n",
    "### *Change value of n to get the required number of countries* "
   ]
  },
  {
   "cell_type": "code",
   "execution_count": 8,
   "metadata": {
    "colab": {
     "base_uri": "https://localhost:8080/",
     "height": 585,
     "referenced_widgets": [
      "92102fb63f544f1eb3578a10b2c777f9",
      "eb224cbd3bd445249e66adf1abd2d199",
      "b61b8dee2973437eb9855fae58cf3ba7",
      "92a77dbbc01c4417959b56831f0bb21a",
      "472eec01a5a14124bd041ccc6f694cad",
      "d6895247c9ae453f9d55d8e0d1e7d280",
      "61531ef99d7b41ad8bffa432134efc53",
      "3afa2ca18fb144f090b59073a8d4a9f5",
      "3ab30b99cbb445f78481afaab31bac4e",
      "d5bd09ab92f1469b901469a4dc8a7043"
     ]
    },
    "id": "0bjraTBzDCa1",
    "outputId": "5e5c1861-6476-4d9d-9075-d2bd1859255d"
   },
   "outputs": [
    {
     "data": {
      "application/vnd.jupyter.widget-view+json": {
       "model_id": "10521d947ac74ba3bd63499a80f98729",
       "version_major": 2,
       "version_minor": 0
      },
      "text/plain": [
       "interactive(children=(Text(value='10', description='n'), Output()), _dom_classes=('widget-interact',))"
      ]
     },
     "metadata": {},
     "output_type": "display_data"
    },
    {
     "data": {
      "application/vnd.jupyter.widget-view+json": {
       "model_id": "77ccfa32024c43ed9197591c2c5d5cc7",
       "version_major": 2,
       "version_minor": 0
      },
      "text/plain": [
       "VBox(children=(FigureWidget({\n",
       "    'data': [], 'layout': {'template': '...'}\n",
       "}),), layout=Layout(border='solid …"
      ]
     },
     "metadata": {},
     "output_type": "display_data"
    }
   ],
   "source": [
    "# in this cell we are sorting the values of confirmed cases in descending order and then displaying an interactive table\n",
    "import ipywidgets\n",
    "from ipywidgets import widgets\n",
    "from IPython.display import display\n",
    "fig = go.FigureWidget( layout=go.Layout() ) #Here the FigureWidget class of plotly.graph_objects module is used (compatible with ipywidgets)\n",
    "def highlight_col(x): # function to set the colors of the columns to be highlighted \n",
    "    r = 'background-color: red'\n",
    "    y = 'background-color: grey'\n",
    "    df1 = pd.DataFrame('', index=x.index, columns=x.columns)\n",
    "    df1.iloc[:, 2] = y\n",
    "    df1.iloc[:, 3] = r\n",
    "    \n",
    "    return df1\n",
    "\n",
    "def show_latest_cases(n):\n",
    "    n = int(n)\n",
    "    return country_df.sort_values('confirmed', ascending= False).head(n).style.apply(highlight_col, axis=None)\n",
    "\n",
    "interact(show_latest_cases, n='10')# interact function defined in ipywidgets module used\n",
    "ipywLayout = widgets.Layout(border='solid 2px green')\n",
    "ipywLayout.display='none' # uncomment this, run cell again - then the graph/figure disappears\n",
    "widgets.VBox([fig], layout=ipywLayout)\n",
    "\n",
    "#Change the value of n below to interact with this table of the dashboard"
   ]
  },
  {
   "cell_type": "markdown",
   "metadata": {},
   "source": [
    "## Worst hit countries (sorted on the basis of total confirmed cases)\n",
    "### *Use slider to get the required number of countries* "
   ]
  },
  {
   "cell_type": "code",
   "execution_count": 9,
   "metadata": {
    "colab": {
     "base_uri": "https://localhost:8080/",
     "height": 574,
     "referenced_widgets": [
      "6fffeeebbc244f3db15f4ad800d0b302",
      "226a5dc0b2f74b3c9f4f3499de45caed",
      "1b3f8a2040784e19abf1e98ad5c0d28d",
      "0ad9220e555245ada49e9e8e8a2b5b50",
      "6fd37123d1954c3491f3704599b866b9",
      "93928d3410ad4a8dbbcb74fa7fccc3fe",
      "d4196d25d0444fa2b6f1900b4eff4c2e",
      "065a33c48e3f4bcea28473855d797d4b",
      "d5bd09ab92f1469b901469a4dc8a7043",
      "948291e780334f1fb16492d62e52d52c"
     ]
    },
    "id": "4B2Z_SbKG9ha",
    "outputId": "7913568b-09c0-4312-a2ae-07b06705ef68"
   },
   "outputs": [
    {
     "data": {
      "application/vnd.jupyter.widget-view+json": {
       "model_id": "eb8578269dbb439f8fe1b9b6556860ab",
       "version_major": 2,
       "version_minor": 0
      },
      "text/plain": [
       "interactive(children=(IntSlider(value=10, description='n', max=30, min=-10), Output()), _dom_classes=('widget-…"
      ]
     },
     "metadata": {},
     "output_type": "display_data"
    },
    {
     "data": {
      "application/vnd.jupyter.widget-view+json": {
       "model_id": "ddd8096b063944a0984438c09410a76b",
       "version_major": 2,
       "version_minor": 0
      },
      "text/plain": [
       "VBox(children=(FigureWidget({\n",
       "    'data': [], 'layout': {'template': '...'}\n",
       "}),), layout=Layout(border='solid …"
      ]
     },
     "metadata": {},
     "output_type": "display_data"
    }
   ],
   "source": [
    "def bubble_chart(n):#function to get scatter plot using plotly express (to be passed to the interact funcion)\n",
    "    sorted_country_df=country_df.sort_values('confirmed', ascending= False).head(n)#sorting df on the basis of total confirmed cases\n",
    "    fig = px.scatter(sorted_country_df, x=\"country\", y=\"confirmed\", size=\"confirmed\", color=\"country\",\n",
    "               hover_name=\"country\", size_max=60)#creating figure using px.scatter command\n",
    "    fig.update_layout(\n",
    "    title=str(n) +\" Worst hit countries\",\n",
    "    xaxis_title=\"Countries\",\n",
    "    yaxis_title=\"Confirmed Cases\",\n",
    "    width = 700\n",
    "    ) #Formatting the figure\n",
    "    fig.show();\n",
    "\n",
    "interact(bubble_chart, n=10) #using inbuilt interact  function of ipywidgets library to make the graph interactive \n",
    "\n",
    "ipywLayout = widgets.Layout(border='solid 2px green')\n",
    "ipywLayout.display='none'\n",
    "widgets.VBox([fig], layout=ipywLayout)\n",
    "#interactive dashboard chart 2, use the slider to get the first n worst hit countries"
   ]
  },
  {
   "cell_type": "markdown",
   "metadata": {},
   "source": [
    "## Confirmed and Death cases timeline\n",
    "### *Type in the country name whose information you want* "
   ]
  },
  {
   "cell_type": "code",
   "execution_count": 10,
   "metadata": {
    "colab": {
     "base_uri": "https://localhost:8080/",
     "height": 574,
     "referenced_widgets": [
      "798d9066cc8a43589d38d1f129da0907",
      "66854a07e40c4808808f1feeb0a833fd",
      "b80ac06b55214b45bebb8fe2688ca270",
      "0ed8eea10ede46e4893ea774dc8000a4",
      "68f97d572a3148879c2a03da5fef9ff2",
      "1a978ed556704e0d8454d03eb44f03bd",
      "e4a803591b794a428186aec9fd135c47"
     ]
    },
    "id": "XaI993WaDlwN",
    "outputId": "31145b15-0e9b-4fba-aef8-1dd829f561ba"
   },
   "outputs": [
    {
     "data": {
      "application/vnd.jupyter.widget-view+json": {
       "model_id": "8fb799402e4f417490f3a88477ed53ff",
       "version_major": 2,
       "version_minor": 0
      },
      "text/plain": [
       "interactive(children=(Text(value='World', description='country'), Output()), _dom_classes=('widget-interact',)…"
      ]
     },
     "metadata": {},
     "output_type": "display_data"
    }
   ],
   "source": [
    "import plotly.graph_objects as go\n",
    "def plotfunc(country):\n",
    "    labels = ['confirmed', 'deaths']\n",
    "    colors = ['yellow', 'red']\n",
    "    mode_size = [6, 8]\n",
    "    line_size = [4, 5]\n",
    "    df_list = [confirmed_df, death_df]\n",
    "    fig = go.Figure();#using Figure class of plotly.graph_objects module to get access to various inbuilt functions defined in it\n",
    "    \n",
    "    for i, df in enumerate(df_list): #Enumerate() method adds a counter to an iterable and returns it in a form of enumerating object. i is the counter and df_list is the iterable\n",
    "        if country == 'World' or country == 'world':\n",
    "            x_data = np.array(list(df.iloc[:, 5:].columns))\n",
    "            y_data = np.sum(np.asarray(df.iloc[:,5:]),axis = 0)\n",
    "            \n",
    "        else:    \n",
    "            x_data = np.array(list(df.iloc[:, 5:].columns))\n",
    "            y_data = np.sum(np.asarray(df[df['country'] == country].iloc[:,5:]),axis = 0)\n",
    "        \n",
    "        #to add tracing information as you move along the line graph\n",
    "        fig.add_trace(go.Scatter(x=x_data, y=y_data, mode='lines+markers',\n",
    "             name=labels[i],\n",
    "             line=dict(color=colors[i], width=line_size[i]),\n",
    "             connectgaps=True,\n",
    "             text = \"Total \" + str(labels[i]) +\": \"+ str(y_data[-1])\n",
    "        ))\n",
    "\n",
    "    fig.show();\n",
    "interact(plotfunc,country='World');\n",
    "\n",
    "#Below you can type the country whose data you want(Eg-Japan,China,India)"
   ]
  },
  {
   "cell_type": "markdown",
   "metadata": {},
   "source": [
    "## Top 10 Worst hit countries (sorted on the basis of total deaths)"
   ]
  },
  {
   "cell_type": "code",
   "execution_count": 11,
   "metadata": {
    "colab": {
     "base_uri": "https://localhost:8080/",
     "height": 517
    },
    "id": "ymS1Twu9WyHP",
    "outputId": "cd67c18b-048c-42d9-c71f-8c6644fde389"
   },
   "outputs": [
    {
     "data": {
      "application/vnd.plotly.v1+json": {
       "config": {
        "plotlyServerURL": "https://plot.ly"
       },
       "data": [
        {
         "alignmentgroup": "True",
         "hovertemplate": "country=%{x}<br>deaths=%{y}<extra></extra>",
         "legendgroup": "",
         "marker": {
          "color": "maroon",
          "pattern": {
           "shape": ""
          }
         },
         "name": "",
         "offsetgroup": "",
         "orientation": "v",
         "showlegend": false,
         "textposition": "auto",
         "type": "bar",
         "x": [
          "US",
          "Brazil",
          "India",
          "Mexico",
          "Russia",
          "Peru",
          "United Kingdom",
          "Indonesia",
          "Italy",
          "Iran"
         ],
         "xaxis": "x",
         "y": [
          791514,
          616018,
          473952,
          295602,
          279280,
          201450,
          146281,
          143893,
          134386,
          130356
         ],
         "yaxis": "y"
        }
       ],
       "layout": {
        "barmode": "relative",
        "height": 500,
        "legend": {
         "tracegroupgap": 0
        },
        "template": {
         "data": {
          "bar": [
           {
            "error_x": {
             "color": "#2a3f5f"
            },
            "error_y": {
             "color": "#2a3f5f"
            },
            "marker": {
             "line": {
              "color": "#E5ECF6",
              "width": 0.5
             },
             "pattern": {
              "fillmode": "overlay",
              "size": 10,
              "solidity": 0.2
             }
            },
            "type": "bar"
           }
          ],
          "barpolar": [
           {
            "marker": {
             "line": {
              "color": "#E5ECF6",
              "width": 0.5
             },
             "pattern": {
              "fillmode": "overlay",
              "size": 10,
              "solidity": 0.2
             }
            },
            "type": "barpolar"
           }
          ],
          "carpet": [
           {
            "aaxis": {
             "endlinecolor": "#2a3f5f",
             "gridcolor": "white",
             "linecolor": "white",
             "minorgridcolor": "white",
             "startlinecolor": "#2a3f5f"
            },
            "baxis": {
             "endlinecolor": "#2a3f5f",
             "gridcolor": "white",
             "linecolor": "white",
             "minorgridcolor": "white",
             "startlinecolor": "#2a3f5f"
            },
            "type": "carpet"
           }
          ],
          "choropleth": [
           {
            "colorbar": {
             "outlinewidth": 0,
             "ticks": ""
            },
            "type": "choropleth"
           }
          ],
          "contour": [
           {
            "colorbar": {
             "outlinewidth": 0,
             "ticks": ""
            },
            "colorscale": [
             [
              0,
              "#0d0887"
             ],
             [
              0.1111111111111111,
              "#46039f"
             ],
             [
              0.2222222222222222,
              "#7201a8"
             ],
             [
              0.3333333333333333,
              "#9c179e"
             ],
             [
              0.4444444444444444,
              "#bd3786"
             ],
             [
              0.5555555555555556,
              "#d8576b"
             ],
             [
              0.6666666666666666,
              "#ed7953"
             ],
             [
              0.7777777777777778,
              "#fb9f3a"
             ],
             [
              0.8888888888888888,
              "#fdca26"
             ],
             [
              1,
              "#f0f921"
             ]
            ],
            "type": "contour"
           }
          ],
          "contourcarpet": [
           {
            "colorbar": {
             "outlinewidth": 0,
             "ticks": ""
            },
            "type": "contourcarpet"
           }
          ],
          "heatmap": [
           {
            "colorbar": {
             "outlinewidth": 0,
             "ticks": ""
            },
            "colorscale": [
             [
              0,
              "#0d0887"
             ],
             [
              0.1111111111111111,
              "#46039f"
             ],
             [
              0.2222222222222222,
              "#7201a8"
             ],
             [
              0.3333333333333333,
              "#9c179e"
             ],
             [
              0.4444444444444444,
              "#bd3786"
             ],
             [
              0.5555555555555556,
              "#d8576b"
             ],
             [
              0.6666666666666666,
              "#ed7953"
             ],
             [
              0.7777777777777778,
              "#fb9f3a"
             ],
             [
              0.8888888888888888,
              "#fdca26"
             ],
             [
              1,
              "#f0f921"
             ]
            ],
            "type": "heatmap"
           }
          ],
          "heatmapgl": [
           {
            "colorbar": {
             "outlinewidth": 0,
             "ticks": ""
            },
            "colorscale": [
             [
              0,
              "#0d0887"
             ],
             [
              0.1111111111111111,
              "#46039f"
             ],
             [
              0.2222222222222222,
              "#7201a8"
             ],
             [
              0.3333333333333333,
              "#9c179e"
             ],
             [
              0.4444444444444444,
              "#bd3786"
             ],
             [
              0.5555555555555556,
              "#d8576b"
             ],
             [
              0.6666666666666666,
              "#ed7953"
             ],
             [
              0.7777777777777778,
              "#fb9f3a"
             ],
             [
              0.8888888888888888,
              "#fdca26"
             ],
             [
              1,
              "#f0f921"
             ]
            ],
            "type": "heatmapgl"
           }
          ],
          "histogram": [
           {
            "marker": {
             "pattern": {
              "fillmode": "overlay",
              "size": 10,
              "solidity": 0.2
             }
            },
            "type": "histogram"
           }
          ],
          "histogram2d": [
           {
            "colorbar": {
             "outlinewidth": 0,
             "ticks": ""
            },
            "colorscale": [
             [
              0,
              "#0d0887"
             ],
             [
              0.1111111111111111,
              "#46039f"
             ],
             [
              0.2222222222222222,
              "#7201a8"
             ],
             [
              0.3333333333333333,
              "#9c179e"
             ],
             [
              0.4444444444444444,
              "#bd3786"
             ],
             [
              0.5555555555555556,
              "#d8576b"
             ],
             [
              0.6666666666666666,
              "#ed7953"
             ],
             [
              0.7777777777777778,
              "#fb9f3a"
             ],
             [
              0.8888888888888888,
              "#fdca26"
             ],
             [
              1,
              "#f0f921"
             ]
            ],
            "type": "histogram2d"
           }
          ],
          "histogram2dcontour": [
           {
            "colorbar": {
             "outlinewidth": 0,
             "ticks": ""
            },
            "colorscale": [
             [
              0,
              "#0d0887"
             ],
             [
              0.1111111111111111,
              "#46039f"
             ],
             [
              0.2222222222222222,
              "#7201a8"
             ],
             [
              0.3333333333333333,
              "#9c179e"
             ],
             [
              0.4444444444444444,
              "#bd3786"
             ],
             [
              0.5555555555555556,
              "#d8576b"
             ],
             [
              0.6666666666666666,
              "#ed7953"
             ],
             [
              0.7777777777777778,
              "#fb9f3a"
             ],
             [
              0.8888888888888888,
              "#fdca26"
             ],
             [
              1,
              "#f0f921"
             ]
            ],
            "type": "histogram2dcontour"
           }
          ],
          "mesh3d": [
           {
            "colorbar": {
             "outlinewidth": 0,
             "ticks": ""
            },
            "type": "mesh3d"
           }
          ],
          "parcoords": [
           {
            "line": {
             "colorbar": {
              "outlinewidth": 0,
              "ticks": ""
             }
            },
            "type": "parcoords"
           }
          ],
          "pie": [
           {
            "automargin": true,
            "type": "pie"
           }
          ],
          "scatter": [
           {
            "marker": {
             "colorbar": {
              "outlinewidth": 0,
              "ticks": ""
             }
            },
            "type": "scatter"
           }
          ],
          "scatter3d": [
           {
            "line": {
             "colorbar": {
              "outlinewidth": 0,
              "ticks": ""
             }
            },
            "marker": {
             "colorbar": {
              "outlinewidth": 0,
              "ticks": ""
             }
            },
            "type": "scatter3d"
           }
          ],
          "scattercarpet": [
           {
            "marker": {
             "colorbar": {
              "outlinewidth": 0,
              "ticks": ""
             }
            },
            "type": "scattercarpet"
           }
          ],
          "scattergeo": [
           {
            "marker": {
             "colorbar": {
              "outlinewidth": 0,
              "ticks": ""
             }
            },
            "type": "scattergeo"
           }
          ],
          "scattergl": [
           {
            "marker": {
             "colorbar": {
              "outlinewidth": 0,
              "ticks": ""
             }
            },
            "type": "scattergl"
           }
          ],
          "scattermapbox": [
           {
            "marker": {
             "colorbar": {
              "outlinewidth": 0,
              "ticks": ""
             }
            },
            "type": "scattermapbox"
           }
          ],
          "scatterpolar": [
           {
            "marker": {
             "colorbar": {
              "outlinewidth": 0,
              "ticks": ""
             }
            },
            "type": "scatterpolar"
           }
          ],
          "scatterpolargl": [
           {
            "marker": {
             "colorbar": {
              "outlinewidth": 0,
              "ticks": ""
             }
            },
            "type": "scatterpolargl"
           }
          ],
          "scatterternary": [
           {
            "marker": {
             "colorbar": {
              "outlinewidth": 0,
              "ticks": ""
             }
            },
            "type": "scatterternary"
           }
          ],
          "surface": [
           {
            "colorbar": {
             "outlinewidth": 0,
             "ticks": ""
            },
            "colorscale": [
             [
              0,
              "#0d0887"
             ],
             [
              0.1111111111111111,
              "#46039f"
             ],
             [
              0.2222222222222222,
              "#7201a8"
             ],
             [
              0.3333333333333333,
              "#9c179e"
             ],
             [
              0.4444444444444444,
              "#bd3786"
             ],
             [
              0.5555555555555556,
              "#d8576b"
             ],
             [
              0.6666666666666666,
              "#ed7953"
             ],
             [
              0.7777777777777778,
              "#fb9f3a"
             ],
             [
              0.8888888888888888,
              "#fdca26"
             ],
             [
              1,
              "#f0f921"
             ]
            ],
            "type": "surface"
           }
          ],
          "table": [
           {
            "cells": {
             "fill": {
              "color": "#EBF0F8"
             },
             "line": {
              "color": "white"
             }
            },
            "header": {
             "fill": {
              "color": "#C8D4E3"
             },
             "line": {
              "color": "white"
             }
            },
            "type": "table"
           }
          ]
         },
         "layout": {
          "annotationdefaults": {
           "arrowcolor": "#2a3f5f",
           "arrowhead": 0,
           "arrowwidth": 1
          },
          "autotypenumbers": "strict",
          "coloraxis": {
           "colorbar": {
            "outlinewidth": 0,
            "ticks": ""
           }
          },
          "colorscale": {
           "diverging": [
            [
             0,
             "#8e0152"
            ],
            [
             0.1,
             "#c51b7d"
            ],
            [
             0.2,
             "#de77ae"
            ],
            [
             0.3,
             "#f1b6da"
            ],
            [
             0.4,
             "#fde0ef"
            ],
            [
             0.5,
             "#f7f7f7"
            ],
            [
             0.6,
             "#e6f5d0"
            ],
            [
             0.7,
             "#b8e186"
            ],
            [
             0.8,
             "#7fbc41"
            ],
            [
             0.9,
             "#4d9221"
            ],
            [
             1,
             "#276419"
            ]
           ],
           "sequential": [
            [
             0,
             "#0d0887"
            ],
            [
             0.1111111111111111,
             "#46039f"
            ],
            [
             0.2222222222222222,
             "#7201a8"
            ],
            [
             0.3333333333333333,
             "#9c179e"
            ],
            [
             0.4444444444444444,
             "#bd3786"
            ],
            [
             0.5555555555555556,
             "#d8576b"
            ],
            [
             0.6666666666666666,
             "#ed7953"
            ],
            [
             0.7777777777777778,
             "#fb9f3a"
            ],
            [
             0.8888888888888888,
             "#fdca26"
            ],
            [
             1,
             "#f0f921"
            ]
           ],
           "sequentialminus": [
            [
             0,
             "#0d0887"
            ],
            [
             0.1111111111111111,
             "#46039f"
            ],
            [
             0.2222222222222222,
             "#7201a8"
            ],
            [
             0.3333333333333333,
             "#9c179e"
            ],
            [
             0.4444444444444444,
             "#bd3786"
            ],
            [
             0.5555555555555556,
             "#d8576b"
            ],
            [
             0.6666666666666666,
             "#ed7953"
            ],
            [
             0.7777777777777778,
             "#fb9f3a"
            ],
            [
             0.8888888888888888,
             "#fdca26"
            ],
            [
             1,
             "#f0f921"
            ]
           ]
          },
          "colorway": [
           "#636efa",
           "#EF553B",
           "#00cc96",
           "#ab63fa",
           "#FFA15A",
           "#19d3f3",
           "#FF6692",
           "#B6E880",
           "#FF97FF",
           "#FECB52"
          ],
          "font": {
           "color": "#2a3f5f"
          },
          "geo": {
           "bgcolor": "white",
           "lakecolor": "white",
           "landcolor": "#E5ECF6",
           "showlakes": true,
           "showland": true,
           "subunitcolor": "white"
          },
          "hoverlabel": {
           "align": "left"
          },
          "hovermode": "closest",
          "mapbox": {
           "style": "light"
          },
          "paper_bgcolor": "white",
          "plot_bgcolor": "#E5ECF6",
          "polar": {
           "angularaxis": {
            "gridcolor": "white",
            "linecolor": "white",
            "ticks": ""
           },
           "bgcolor": "#E5ECF6",
           "radialaxis": {
            "gridcolor": "white",
            "linecolor": "white",
            "ticks": ""
           }
          },
          "scene": {
           "xaxis": {
            "backgroundcolor": "#E5ECF6",
            "gridcolor": "white",
            "gridwidth": 2,
            "linecolor": "white",
            "showbackground": true,
            "ticks": "",
            "zerolinecolor": "white"
           },
           "yaxis": {
            "backgroundcolor": "#E5ECF6",
            "gridcolor": "white",
            "gridwidth": 2,
            "linecolor": "white",
            "showbackground": true,
            "ticks": "",
            "zerolinecolor": "white"
           },
           "zaxis": {
            "backgroundcolor": "#E5ECF6",
            "gridcolor": "white",
            "gridwidth": 2,
            "linecolor": "white",
            "showbackground": true,
            "ticks": "",
            "zerolinecolor": "white"
           }
          },
          "shapedefaults": {
           "line": {
            "color": "#2a3f5f"
           }
          },
          "ternary": {
           "aaxis": {
            "gridcolor": "white",
            "linecolor": "white",
            "ticks": ""
           },
           "baxis": {
            "gridcolor": "white",
            "linecolor": "white",
            "ticks": ""
           },
           "bgcolor": "#E5ECF6",
           "caxis": {
            "gridcolor": "white",
            "linecolor": "white",
            "ticks": ""
           }
          },
          "title": {
           "x": 0.05
          },
          "xaxis": {
           "automargin": true,
           "gridcolor": "white",
           "linecolor": "white",
           "ticks": "",
           "title": {
            "standoff": 15
           },
           "zerolinecolor": "white",
           "zerolinewidth": 2
          },
          "yaxis": {
           "automargin": true,
           "gridcolor": "white",
           "linecolor": "white",
           "ticks": "",
           "title": {
            "standoff": 15
           },
           "zerolinecolor": "white",
           "zerolinewidth": 2
          }
         }
        },
        "title": {
         "text": "Top 10 worst affected countries (based on deaths)"
        },
        "width": 800,
        "xaxis": {
         "anchor": "y",
         "domain": [
          0,
          1
         ],
         "title": {
          "text": "country"
         }
        },
        "yaxis": {
         "anchor": "x",
         "domain": [
          0,
          1
         ],
         "title": {
          "text": "deaths"
         }
        }
       }
      },
      "text/html": [
       "<div>                            <div id=\"52c6c758-e729-4fae-95d4-450e3c3cfff8\" class=\"plotly-graph-div\" style=\"height:500px; width:800px;\"></div>            <script type=\"text/javascript\">                require([\"plotly\"], function(Plotly) {                    window.PLOTLYENV=window.PLOTLYENV || {};                                    if (document.getElementById(\"52c6c758-e729-4fae-95d4-450e3c3cfff8\")) {                    Plotly.newPlot(                        \"52c6c758-e729-4fae-95d4-450e3c3cfff8\",                        [{\"alignmentgroup\":\"True\",\"hovertemplate\":\"country=%{x}<br>deaths=%{y}<extra></extra>\",\"legendgroup\":\"\",\"marker\":{\"color\":\"maroon\",\"pattern\":{\"shape\":\"\"}},\"name\":\"\",\"offsetgroup\":\"\",\"orientation\":\"v\",\"showlegend\":false,\"textposition\":\"auto\",\"x\":[\"US\",\"Brazil\",\"India\",\"Mexico\",\"Russia\",\"Peru\",\"United Kingdom\",\"Indonesia\",\"Italy\",\"Iran\"],\"xaxis\":\"x\",\"y\":[791514,616018,473952,295602,279280,201450,146281,143893,134386,130356],\"yaxis\":\"y\",\"type\":\"bar\"}],                        {\"template\":{\"data\":{\"bar\":[{\"error_x\":{\"color\":\"#2a3f5f\"},\"error_y\":{\"color\":\"#2a3f5f\"},\"marker\":{\"line\":{\"color\":\"#E5ECF6\",\"width\":0.5},\"pattern\":{\"fillmode\":\"overlay\",\"size\":10,\"solidity\":0.2}},\"type\":\"bar\"}],\"barpolar\":[{\"marker\":{\"line\":{\"color\":\"#E5ECF6\",\"width\":0.5},\"pattern\":{\"fillmode\":\"overlay\",\"size\":10,\"solidity\":0.2}},\"type\":\"barpolar\"}],\"carpet\":[{\"aaxis\":{\"endlinecolor\":\"#2a3f5f\",\"gridcolor\":\"white\",\"linecolor\":\"white\",\"minorgridcolor\":\"white\",\"startlinecolor\":\"#2a3f5f\"},\"baxis\":{\"endlinecolor\":\"#2a3f5f\",\"gridcolor\":\"white\",\"linecolor\":\"white\",\"minorgridcolor\":\"white\",\"startlinecolor\":\"#2a3f5f\"},\"type\":\"carpet\"}],\"choropleth\":[{\"colorbar\":{\"outlinewidth\":0,\"ticks\":\"\"},\"type\":\"choropleth\"}],\"contour\":[{\"colorbar\":{\"outlinewidth\":0,\"ticks\":\"\"},\"colorscale\":[[0.0,\"#0d0887\"],[0.1111111111111111,\"#46039f\"],[0.2222222222222222,\"#7201a8\"],[0.3333333333333333,\"#9c179e\"],[0.4444444444444444,\"#bd3786\"],[0.5555555555555556,\"#d8576b\"],[0.6666666666666666,\"#ed7953\"],[0.7777777777777778,\"#fb9f3a\"],[0.8888888888888888,\"#fdca26\"],[1.0,\"#f0f921\"]],\"type\":\"contour\"}],\"contourcarpet\":[{\"colorbar\":{\"outlinewidth\":0,\"ticks\":\"\"},\"type\":\"contourcarpet\"}],\"heatmap\":[{\"colorbar\":{\"outlinewidth\":0,\"ticks\":\"\"},\"colorscale\":[[0.0,\"#0d0887\"],[0.1111111111111111,\"#46039f\"],[0.2222222222222222,\"#7201a8\"],[0.3333333333333333,\"#9c179e\"],[0.4444444444444444,\"#bd3786\"],[0.5555555555555556,\"#d8576b\"],[0.6666666666666666,\"#ed7953\"],[0.7777777777777778,\"#fb9f3a\"],[0.8888888888888888,\"#fdca26\"],[1.0,\"#f0f921\"]],\"type\":\"heatmap\"}],\"heatmapgl\":[{\"colorbar\":{\"outlinewidth\":0,\"ticks\":\"\"},\"colorscale\":[[0.0,\"#0d0887\"],[0.1111111111111111,\"#46039f\"],[0.2222222222222222,\"#7201a8\"],[0.3333333333333333,\"#9c179e\"],[0.4444444444444444,\"#bd3786\"],[0.5555555555555556,\"#d8576b\"],[0.6666666666666666,\"#ed7953\"],[0.7777777777777778,\"#fb9f3a\"],[0.8888888888888888,\"#fdca26\"],[1.0,\"#f0f921\"]],\"type\":\"heatmapgl\"}],\"histogram\":[{\"marker\":{\"pattern\":{\"fillmode\":\"overlay\",\"size\":10,\"solidity\":0.2}},\"type\":\"histogram\"}],\"histogram2d\":[{\"colorbar\":{\"outlinewidth\":0,\"ticks\":\"\"},\"colorscale\":[[0.0,\"#0d0887\"],[0.1111111111111111,\"#46039f\"],[0.2222222222222222,\"#7201a8\"],[0.3333333333333333,\"#9c179e\"],[0.4444444444444444,\"#bd3786\"],[0.5555555555555556,\"#d8576b\"],[0.6666666666666666,\"#ed7953\"],[0.7777777777777778,\"#fb9f3a\"],[0.8888888888888888,\"#fdca26\"],[1.0,\"#f0f921\"]],\"type\":\"histogram2d\"}],\"histogram2dcontour\":[{\"colorbar\":{\"outlinewidth\":0,\"ticks\":\"\"},\"colorscale\":[[0.0,\"#0d0887\"],[0.1111111111111111,\"#46039f\"],[0.2222222222222222,\"#7201a8\"],[0.3333333333333333,\"#9c179e\"],[0.4444444444444444,\"#bd3786\"],[0.5555555555555556,\"#d8576b\"],[0.6666666666666666,\"#ed7953\"],[0.7777777777777778,\"#fb9f3a\"],[0.8888888888888888,\"#fdca26\"],[1.0,\"#f0f921\"]],\"type\":\"histogram2dcontour\"}],\"mesh3d\":[{\"colorbar\":{\"outlinewidth\":0,\"ticks\":\"\"},\"type\":\"mesh3d\"}],\"parcoords\":[{\"line\":{\"colorbar\":{\"outlinewidth\":0,\"ticks\":\"\"}},\"type\":\"parcoords\"}],\"pie\":[{\"automargin\":true,\"type\":\"pie\"}],\"scatter\":[{\"marker\":{\"colorbar\":{\"outlinewidth\":0,\"ticks\":\"\"}},\"type\":\"scatter\"}],\"scatter3d\":[{\"line\":{\"colorbar\":{\"outlinewidth\":0,\"ticks\":\"\"}},\"marker\":{\"colorbar\":{\"outlinewidth\":0,\"ticks\":\"\"}},\"type\":\"scatter3d\"}],\"scattercarpet\":[{\"marker\":{\"colorbar\":{\"outlinewidth\":0,\"ticks\":\"\"}},\"type\":\"scattercarpet\"}],\"scattergeo\":[{\"marker\":{\"colorbar\":{\"outlinewidth\":0,\"ticks\":\"\"}},\"type\":\"scattergeo\"}],\"scattergl\":[{\"marker\":{\"colorbar\":{\"outlinewidth\":0,\"ticks\":\"\"}},\"type\":\"scattergl\"}],\"scattermapbox\":[{\"marker\":{\"colorbar\":{\"outlinewidth\":0,\"ticks\":\"\"}},\"type\":\"scattermapbox\"}],\"scatterpolar\":[{\"marker\":{\"colorbar\":{\"outlinewidth\":0,\"ticks\":\"\"}},\"type\":\"scatterpolar\"}],\"scatterpolargl\":[{\"marker\":{\"colorbar\":{\"outlinewidth\":0,\"ticks\":\"\"}},\"type\":\"scatterpolargl\"}],\"scatterternary\":[{\"marker\":{\"colorbar\":{\"outlinewidth\":0,\"ticks\":\"\"}},\"type\":\"scatterternary\"}],\"surface\":[{\"colorbar\":{\"outlinewidth\":0,\"ticks\":\"\"},\"colorscale\":[[0.0,\"#0d0887\"],[0.1111111111111111,\"#46039f\"],[0.2222222222222222,\"#7201a8\"],[0.3333333333333333,\"#9c179e\"],[0.4444444444444444,\"#bd3786\"],[0.5555555555555556,\"#d8576b\"],[0.6666666666666666,\"#ed7953\"],[0.7777777777777778,\"#fb9f3a\"],[0.8888888888888888,\"#fdca26\"],[1.0,\"#f0f921\"]],\"type\":\"surface\"}],\"table\":[{\"cells\":{\"fill\":{\"color\":\"#EBF0F8\"},\"line\":{\"color\":\"white\"}},\"header\":{\"fill\":{\"color\":\"#C8D4E3\"},\"line\":{\"color\":\"white\"}},\"type\":\"table\"}]},\"layout\":{\"annotationdefaults\":{\"arrowcolor\":\"#2a3f5f\",\"arrowhead\":0,\"arrowwidth\":1},\"autotypenumbers\":\"strict\",\"coloraxis\":{\"colorbar\":{\"outlinewidth\":0,\"ticks\":\"\"}},\"colorscale\":{\"diverging\":[[0,\"#8e0152\"],[0.1,\"#c51b7d\"],[0.2,\"#de77ae\"],[0.3,\"#f1b6da\"],[0.4,\"#fde0ef\"],[0.5,\"#f7f7f7\"],[0.6,\"#e6f5d0\"],[0.7,\"#b8e186\"],[0.8,\"#7fbc41\"],[0.9,\"#4d9221\"],[1,\"#276419\"]],\"sequential\":[[0.0,\"#0d0887\"],[0.1111111111111111,\"#46039f\"],[0.2222222222222222,\"#7201a8\"],[0.3333333333333333,\"#9c179e\"],[0.4444444444444444,\"#bd3786\"],[0.5555555555555556,\"#d8576b\"],[0.6666666666666666,\"#ed7953\"],[0.7777777777777778,\"#fb9f3a\"],[0.8888888888888888,\"#fdca26\"],[1.0,\"#f0f921\"]],\"sequentialminus\":[[0.0,\"#0d0887\"],[0.1111111111111111,\"#46039f\"],[0.2222222222222222,\"#7201a8\"],[0.3333333333333333,\"#9c179e\"],[0.4444444444444444,\"#bd3786\"],[0.5555555555555556,\"#d8576b\"],[0.6666666666666666,\"#ed7953\"],[0.7777777777777778,\"#fb9f3a\"],[0.8888888888888888,\"#fdca26\"],[1.0,\"#f0f921\"]]},\"colorway\":[\"#636efa\",\"#EF553B\",\"#00cc96\",\"#ab63fa\",\"#FFA15A\",\"#19d3f3\",\"#FF6692\",\"#B6E880\",\"#FF97FF\",\"#FECB52\"],\"font\":{\"color\":\"#2a3f5f\"},\"geo\":{\"bgcolor\":\"white\",\"lakecolor\":\"white\",\"landcolor\":\"#E5ECF6\",\"showlakes\":true,\"showland\":true,\"subunitcolor\":\"white\"},\"hoverlabel\":{\"align\":\"left\"},\"hovermode\":\"closest\",\"mapbox\":{\"style\":\"light\"},\"paper_bgcolor\":\"white\",\"plot_bgcolor\":\"#E5ECF6\",\"polar\":{\"angularaxis\":{\"gridcolor\":\"white\",\"linecolor\":\"white\",\"ticks\":\"\"},\"bgcolor\":\"#E5ECF6\",\"radialaxis\":{\"gridcolor\":\"white\",\"linecolor\":\"white\",\"ticks\":\"\"}},\"scene\":{\"xaxis\":{\"backgroundcolor\":\"#E5ECF6\",\"gridcolor\":\"white\",\"gridwidth\":2,\"linecolor\":\"white\",\"showbackground\":true,\"ticks\":\"\",\"zerolinecolor\":\"white\"},\"yaxis\":{\"backgroundcolor\":\"#E5ECF6\",\"gridcolor\":\"white\",\"gridwidth\":2,\"linecolor\":\"white\",\"showbackground\":true,\"ticks\":\"\",\"zerolinecolor\":\"white\"},\"zaxis\":{\"backgroundcolor\":\"#E5ECF6\",\"gridcolor\":\"white\",\"gridwidth\":2,\"linecolor\":\"white\",\"showbackground\":true,\"ticks\":\"\",\"zerolinecolor\":\"white\"}},\"shapedefaults\":{\"line\":{\"color\":\"#2a3f5f\"}},\"ternary\":{\"aaxis\":{\"gridcolor\":\"white\",\"linecolor\":\"white\",\"ticks\":\"\"},\"baxis\":{\"gridcolor\":\"white\",\"linecolor\":\"white\",\"ticks\":\"\"},\"bgcolor\":\"#E5ECF6\",\"caxis\":{\"gridcolor\":\"white\",\"linecolor\":\"white\",\"ticks\":\"\"}},\"title\":{\"x\":0.05},\"xaxis\":{\"automargin\":true,\"gridcolor\":\"white\",\"linecolor\":\"white\",\"ticks\":\"\",\"title\":{\"standoff\":15},\"zerolinecolor\":\"white\",\"zerolinewidth\":2},\"yaxis\":{\"automargin\":true,\"gridcolor\":\"white\",\"linecolor\":\"white\",\"ticks\":\"\",\"title\":{\"standoff\":15},\"zerolinecolor\":\"white\",\"zerolinewidth\":2}}},\"xaxis\":{\"anchor\":\"y\",\"domain\":[0.0,1.0],\"title\":{\"text\":\"country\"}},\"yaxis\":{\"anchor\":\"x\",\"domain\":[0.0,1.0],\"title\":{\"text\":\"deaths\"}},\"legend\":{\"tracegroupgap\":0},\"title\":{\"text\":\"Top 10 worst affected countries (based on deaths)\"},\"barmode\":\"relative\",\"height\":500,\"width\":800},                        {\"responsive\": true}                    ).then(function(){\n",
       "                            \n",
       "var gd = document.getElementById('52c6c758-e729-4fae-95d4-450e3c3cfff8');\n",
       "var x = new MutationObserver(function (mutations, observer) {{\n",
       "        var display = window.getComputedStyle(gd).display;\n",
       "        if (!display || display === 'none') {{\n",
       "            console.log([gd, 'removed!']);\n",
       "            Plotly.purge(gd);\n",
       "            observer.disconnect();\n",
       "        }}\n",
       "}});\n",
       "\n",
       "// Listen for the removal of the full notebook cells\n",
       "var notebookContainer = gd.closest('#notebook-container');\n",
       "if (notebookContainer) {{\n",
       "    x.observe(notebookContainer, {childList: true});\n",
       "}}\n",
       "\n",
       "// Listen for the clearing of the current output cell\n",
       "var outputEl = gd.closest('.output');\n",
       "if (outputEl) {{\n",
       "    x.observe(outputEl, {childList: true});\n",
       "}}\n",
       "\n",
       "                        })                };                });            </script>        </div>"
      ]
     },
     "metadata": {},
     "output_type": "display_data"
    }
   ],
   "source": [
    "sorted_country_df=country_df.sort_values('deaths', ascending= False).head(10)\n",
    "#using px.bar function of plotly express to get an iteractive bar chart\n",
    "px.bar(\n",
    "    sorted_country_df.head(10),#getting top 10 worst hot countries\n",
    "    x = \"country\", #x axis title\n",
    "    y = \"deaths\", #y axis title\n",
    "    title= \"Top 10 worst affected countries (based on deaths)\", # Setting title of bar graph\n",
    "    color_discrete_sequence=[\"maroon\"], #setting color\n",
    "    height=500, #setting image dimensions\n",
    "    width=800   #setting image dimensions\n",
    ") "
   ]
  },
  {
   "cell_type": "code",
   "execution_count": 12,
   "metadata": {},
   "outputs": [],
   "source": [
    "#after installing all required libraries given on top we need to install the voila library to render the dashboard on the new webpage\n",
    "#use voila PythonNotebookpath  command to render the dashboard (in the anaconda prompt)\n",
    "#or use the voila button in jupyter notebook (after installing voila and trusting jupyter notebook) to render the dashboard"
   ]
  }
 ],
 "metadata": {
  "colab": {
   "collapsed_sections": [],
   "name": "Dashboard.ipynb",
   "provenance": []
  },
  "kernelspec": {
   "display_name": "Python 3 (ipykernel)",
   "language": "python",
   "name": "python3"
  },
  "language_info": {
   "codemirror_mode": {
    "name": "ipython",
    "version": 3
   },
   "file_extension": ".py",
   "mimetype": "text/x-python",
   "name": "python",
   "nbconvert_exporter": "python",
   "pygments_lexer": "ipython3",
   "version": "3.9.7"
  },
  "widgets": {
   "application/vnd.jupyter.widget-state+json": {
    "065a33c48e3f4bcea28473855d797d4b": {
     "model_module": "@jupyter-widgets/base",
     "model_module_version": "1.2.0",
     "model_name": "LayoutModel",
     "state": {
      "_model_module": "@jupyter-widgets/base",
      "_model_module_version": "1.2.0",
      "_model_name": "LayoutModel",
      "_view_count": null,
      "_view_module": "@jupyter-widgets/base",
      "_view_module_version": "1.2.0",
      "_view_name": "LayoutView",
      "align_content": null,
      "align_items": null,
      "align_self": null,
      "border": "solid 2px green",
      "bottom": null,
      "display": "none",
      "flex": null,
      "flex_flow": null,
      "grid_area": null,
      "grid_auto_columns": null,
      "grid_auto_flow": null,
      "grid_auto_rows": null,
      "grid_column": null,
      "grid_gap": null,
      "grid_row": null,
      "grid_template_areas": null,
      "grid_template_columns": null,
      "grid_template_rows": null,
      "height": null,
      "justify_content": null,
      "justify_items": null,
      "left": null,
      "margin": null,
      "max_height": null,
      "max_width": null,
      "min_height": null,
      "min_width": null,
      "object_fit": null,
      "object_position": null,
      "order": null,
      "overflow": null,
      "overflow_x": null,
      "overflow_y": null,
      "padding": null,
      "right": null,
      "top": null,
      "visibility": null,
      "width": null
     }
    },
    "0ad9220e555245ada49e9e8e8a2b5b50": {
     "model_module": "@jupyter-widgets/output",
     "model_module_version": "1.0.0",
     "model_name": "OutputModel",
     "state": {
      "_dom_classes": [],
      "_model_module": "@jupyter-widgets/output",
      "_model_module_version": "1.0.0",
      "_model_name": "OutputModel",
      "_view_count": null,
      "_view_module": "@jupyter-widgets/output",
      "_view_module_version": "1.0.0",
      "_view_name": "OutputView",
      "layout": "IPY_MODEL_d4196d25d0444fa2b6f1900b4eff4c2e",
      "msg_id": "",
      "outputs": [
       {
        "data": {
         "text/html": "<html>\n<head><meta charset=\"utf-8\" /></head>\n<body>\n    <div>\n            <script src=\"https://cdnjs.cloudflare.com/ajax/libs/mathjax/2.7.5/MathJax.js?config=TeX-AMS-MML_SVG\"></script><script type=\"text/javascript\">if (window.MathJax) {MathJax.Hub.Config({SVG: {font: \"STIX-Web\"}});}</script>\n                <script type=\"text/javascript\">window.PlotlyConfig = {MathJaxConfig: 'local'};</script>\n        <script src=\"https://cdn.plot.ly/plotly-latest.min.js\"></script>    \n            <div id=\"9c4858bf-1f89-4320-9c60-7e4fdb200875\" class=\"plotly-graph-div\" style=\"height:525px; width:700px;\"></div>\n            <script type=\"text/javascript\">\n                \n                    window.PLOTLYENV=window.PLOTLYENV || {};\n                    \n                if (document.getElementById(\"9c4858bf-1f89-4320-9c60-7e4fdb200875\")) {\n                    Plotly.newPlot(\n                        '9c4858bf-1f89-4320-9c60-7e4fdb200875',\n                        [{\"hoverlabel\": {\"namelength\": 0}, \"hovertemplate\": \"<b>%{hovertext}</b><br><br>country=%{x}<br>confirmed=%{marker.size}\", \"hovertext\": [\"US\"], \"legendgroup\": \"country=US\", \"marker\": {\"color\": \"#636efa\", \"size\": [48948587], \"sizemode\": \"area\", \"sizeref\": 13596.829722222223, \"symbol\": \"circle\"}, \"mode\": \"markers\", \"name\": \"country=US\", \"showlegend\": true, \"type\": \"scatter\", \"x\": [\"US\"], \"xaxis\": \"x\", \"y\": [48948587], \"yaxis\": \"y\"}, {\"hoverlabel\": {\"namelength\": 0}, \"hovertemplate\": \"<b>%{hovertext}</b><br><br>country=%{x}<br>confirmed=%{marker.size}\", \"hovertext\": [\"India\"], \"legendgroup\": \"country=India\", \"marker\": {\"color\": \"#EF553B\", \"size\": [34615757], \"sizemode\": \"area\", \"sizeref\": 13596.829722222223, \"symbol\": \"circle\"}, \"mode\": \"markers\", \"name\": \"country=India\", \"showlegend\": true, \"type\": \"scatter\", \"x\": [\"India\"], \"xaxis\": \"x\", \"y\": [34615757], \"yaxis\": \"y\"}, {\"hoverlabel\": {\"namelength\": 0}, \"hovertemplate\": \"<b>%{hovertext}</b><br><br>country=%{x}<br>confirmed=%{marker.size}\", \"hovertext\": [\"Brazil\"], \"legendgroup\": \"country=Brazil\", \"marker\": {\"color\": \"#00cc96\", \"size\": [22118782], \"sizemode\": \"area\", \"sizeref\": 13596.829722222223, \"symbol\": \"circle\"}, \"mode\": \"markers\", \"name\": \"country=Brazil\", \"showlegend\": true, \"type\": \"scatter\", \"x\": [\"Brazil\"], \"xaxis\": \"x\", \"y\": [22118782], \"yaxis\": \"y\"}, {\"hoverlabel\": {\"namelength\": 0}, \"hovertemplate\": \"<b>%{hovertext}</b><br><br>country=%{x}<br>confirmed=%{marker.size}\", \"hovertext\": [\"United Kingdom\"], \"legendgroup\": \"country=United Kingdom\", \"marker\": {\"color\": \"#ab63fa\", \"size\": [10438059], \"sizemode\": \"area\", \"sizeref\": 13596.829722222223, \"symbol\": \"circle\"}, \"mode\": \"markers\", \"name\": \"country=United Kingdom\", \"showlegend\": true, \"type\": \"scatter\", \"x\": [\"United Kingdom\"], \"xaxis\": \"x\", \"y\": [10438059], \"yaxis\": \"y\"}, {\"hoverlabel\": {\"namelength\": 0}, \"hovertemplate\": \"<b>%{hovertext}</b><br><br>country=%{x}<br>confirmed=%{marker.size}\", \"hovertext\": [\"Russia\"], \"legendgroup\": \"country=Russia\", \"marker\": {\"color\": \"#FFA15A\", \"size\": [9565909], \"sizemode\": \"area\", \"sizeref\": 13596.829722222223, \"symbol\": \"circle\"}, \"mode\": \"markers\", \"name\": \"country=Russia\", \"showlegend\": true, \"type\": \"scatter\", \"x\": [\"Russia\"], \"xaxis\": \"x\", \"y\": [9565909], \"yaxis\": \"y\"}, {\"hoverlabel\": {\"namelength\": 0}, \"hovertemplate\": \"<b>%{hovertext}</b><br><br>country=%{x}<br>confirmed=%{marker.size}\", \"hovertext\": [\"Turkey\"], \"legendgroup\": \"country=Turkey\", \"marker\": {\"color\": \"#19d3f3\", \"size\": [8841861], \"sizemode\": \"area\", \"sizeref\": 13596.829722222223, \"symbol\": \"circle\"}, \"mode\": \"markers\", \"name\": \"country=Turkey\", \"showlegend\": true, \"type\": \"scatter\", \"x\": [\"Turkey\"], \"xaxis\": \"x\", \"y\": [8841861], \"yaxis\": \"y\"}, {\"hoverlabel\": {\"namelength\": 0}, \"hovertemplate\": \"<b>%{hovertext}</b><br><br>country=%{x}<br>confirmed=%{marker.size}\", \"hovertext\": [\"France\"], \"legendgroup\": \"country=France\", \"marker\": {\"color\": \"#FF6692\", \"size\": [7927361], \"sizemode\": \"area\", \"sizeref\": 13596.829722222223, \"symbol\": \"circle\"}, \"mode\": \"markers\", \"name\": \"country=France\", \"showlegend\": true, \"type\": \"scatter\", \"x\": [\"France\"], \"xaxis\": \"x\", \"y\": [7927361], \"yaxis\": \"y\"}, {\"hoverlabel\": {\"namelength\": 0}, \"hovertemplate\": \"<b>%{hovertext}</b><br><br>country=%{x}<br>confirmed=%{marker.size}\", \"hovertext\": [\"Iran\"], \"legendgroup\": \"country=Iran\", \"marker\": {\"color\": \"#B6E880\", \"size\": [6129199], \"sizemode\": \"area\", \"sizeref\": 13596.829722222223, \"symbol\": \"circle\"}, \"mode\": \"markers\", \"name\": \"country=Iran\", \"showlegend\": true, \"type\": \"scatter\", \"x\": [\"Iran\"], \"xaxis\": \"x\", \"y\": [6129199], \"yaxis\": \"y\"}, {\"hoverlabel\": {\"namelength\": 0}, \"hovertemplate\": \"<b>%{hovertext}</b><br><br>country=%{x}<br>confirmed=%{marker.size}\", \"hovertext\": [\"Germany\"], \"legendgroup\": \"country=Germany\", \"marker\": {\"color\": \"#FF97FF\", \"size\": [6097687], \"sizemode\": \"area\", \"sizeref\": 13596.829722222223, \"symbol\": \"circle\"}, \"mode\": \"markers\", \"name\": \"country=Germany\", \"showlegend\": true, \"type\": \"scatter\", \"x\": [\"Germany\"], \"xaxis\": \"x\", \"y\": [6097687], \"yaxis\": \"y\"}, {\"hoverlabel\": {\"namelength\": 0}, \"hovertemplate\": \"<b>%{hovertext}</b><br><br>country=%{x}<br>confirmed=%{marker.size}\", \"hovertext\": [\"Argentina\"], \"legendgroup\": \"country=Argentina\", \"marker\": {\"color\": \"#FECB52\", \"size\": [5335310], \"sizemode\": \"area\", \"sizeref\": 13596.829722222223, \"symbol\": \"circle\"}, \"mode\": \"markers\", \"name\": \"country=Argentina\", \"showlegend\": true, \"type\": \"scatter\", \"x\": [\"Argentina\"], \"xaxis\": \"x\", \"y\": [5335310], \"yaxis\": \"y\"}, {\"hoverlabel\": {\"namelength\": 0}, \"hovertemplate\": \"<b>%{hovertext}</b><br><br>country=%{x}<br>confirmed=%{marker.size}\", \"hovertext\": [\"Spain\"], \"legendgroup\": \"country=Spain\", \"marker\": {\"color\": \"#636efa\", \"size\": [5202958], \"sizemode\": \"area\", \"sizeref\": 13596.829722222223, \"symbol\": \"circle\"}, \"mode\": \"markers\", \"name\": \"country=Spain\", \"showlegend\": true, \"type\": \"scatter\", \"x\": [\"Spain\"], \"xaxis\": \"x\", \"y\": [5202958], \"yaxis\": \"y\"}, {\"hoverlabel\": {\"namelength\": 0}, \"hovertemplate\": \"<b>%{hovertext}</b><br><br>country=%{x}<br>confirmed=%{marker.size}\", \"hovertext\": [\"Italy\"], \"legendgroup\": \"country=Italy\", \"marker\": {\"color\": \"#EF553B\", \"size\": [5077445], \"sizemode\": \"area\", \"sizeref\": 13596.829722222223, \"symbol\": \"circle\"}, \"mode\": \"markers\", \"name\": \"country=Italy\", \"showlegend\": true, \"type\": \"scatter\", \"x\": [\"Italy\"], \"xaxis\": \"x\", \"y\": [5077445], \"yaxis\": \"y\"}, {\"hoverlabel\": {\"namelength\": 0}, \"hovertemplate\": \"<b>%{hovertext}</b><br><br>country=%{x}<br>confirmed=%{marker.size}\", \"hovertext\": [\"Colombia\"], \"legendgroup\": \"country=Colombia\", \"marker\": {\"color\": \"#00cc96\", \"size\": [5074079], \"sizemode\": \"area\", \"sizeref\": 13596.829722222223, \"symbol\": \"circle\"}, \"mode\": \"markers\", \"name\": \"country=Colombia\", \"showlegend\": true, \"type\": \"scatter\", \"x\": [\"Colombia\"], \"xaxis\": \"x\", \"y\": [5074079], \"yaxis\": \"y\"}, {\"hoverlabel\": {\"namelength\": 0}, \"hovertemplate\": \"<b>%{hovertext}</b><br><br>country=%{x}<br>confirmed=%{marker.size}\", \"hovertext\": [\"Indonesia\"], \"legendgroup\": \"country=Indonesia\", \"marker\": {\"color\": \"#ab63fa\", \"size\": [4257243], \"sizemode\": \"area\", \"sizeref\": 13596.829722222223, \"symbol\": \"circle\"}, \"mode\": \"markers\", \"name\": \"country=Indonesia\", \"showlegend\": true, \"type\": \"scatter\", \"x\": [\"Indonesia\"], \"xaxis\": \"x\", \"y\": [4257243], \"yaxis\": \"y\"}, {\"hoverlabel\": {\"namelength\": 0}, \"hovertemplate\": \"<b>%{hovertext}</b><br><br>country=%{x}<br>confirmed=%{marker.size}\", \"hovertext\": [\"Mexico\"], \"legendgroup\": \"country=Mexico\", \"marker\": {\"color\": \"#FFA15A\", \"size\": [3894364], \"sizemode\": \"area\", \"sizeref\": 13596.829722222223, \"symbol\": \"circle\"}, \"mode\": \"markers\", \"name\": \"country=Mexico\", \"showlegend\": true, \"type\": \"scatter\", \"x\": [\"Mexico\"], \"xaxis\": \"x\", \"y\": [3894364], \"yaxis\": \"y\"}],\n                        {\"legend\": {\"itemsizing\": \"constant\", \"tracegroupgap\": 0}, \"margin\": {\"t\": 60}, \"template\": {\"data\": {\"bar\": [{\"error_x\": {\"color\": \"#2a3f5f\"}, \"error_y\": {\"color\": \"#2a3f5f\"}, \"marker\": {\"line\": {\"color\": \"#E5ECF6\", \"width\": 0.5}}, \"type\": \"bar\"}], \"barpolar\": [{\"marker\": {\"line\": {\"color\": \"#E5ECF6\", \"width\": 0.5}}, \"type\": \"barpolar\"}], \"carpet\": [{\"aaxis\": {\"endlinecolor\": \"#2a3f5f\", \"gridcolor\": \"white\", \"linecolor\": \"white\", \"minorgridcolor\": \"white\", \"startlinecolor\": \"#2a3f5f\"}, \"baxis\": {\"endlinecolor\": \"#2a3f5f\", \"gridcolor\": \"white\", \"linecolor\": \"white\", \"minorgridcolor\": \"white\", \"startlinecolor\": \"#2a3f5f\"}, \"type\": \"carpet\"}], \"choropleth\": [{\"colorbar\": {\"outlinewidth\": 0, \"ticks\": \"\"}, \"type\": \"choropleth\"}], \"contour\": [{\"colorbar\": {\"outlinewidth\": 0, \"ticks\": \"\"}, \"colorscale\": [[0.0, \"#0d0887\"], [0.1111111111111111, \"#46039f\"], [0.2222222222222222, \"#7201a8\"], [0.3333333333333333, \"#9c179e\"], [0.4444444444444444, \"#bd3786\"], [0.5555555555555556, \"#d8576b\"], [0.6666666666666666, \"#ed7953\"], [0.7777777777777778, \"#fb9f3a\"], [0.8888888888888888, \"#fdca26\"], [1.0, \"#f0f921\"]], \"type\": \"contour\"}], \"contourcarpet\": [{\"colorbar\": {\"outlinewidth\": 0, \"ticks\": \"\"}, \"type\": \"contourcarpet\"}], \"heatmap\": [{\"colorbar\": {\"outlinewidth\": 0, \"ticks\": \"\"}, \"colorscale\": [[0.0, \"#0d0887\"], [0.1111111111111111, \"#46039f\"], [0.2222222222222222, \"#7201a8\"], [0.3333333333333333, \"#9c179e\"], [0.4444444444444444, \"#bd3786\"], [0.5555555555555556, \"#d8576b\"], [0.6666666666666666, \"#ed7953\"], [0.7777777777777778, \"#fb9f3a\"], [0.8888888888888888, \"#fdca26\"], [1.0, \"#f0f921\"]], \"type\": \"heatmap\"}], \"heatmapgl\": [{\"colorbar\": {\"outlinewidth\": 0, \"ticks\": \"\"}, \"colorscale\": [[0.0, \"#0d0887\"], [0.1111111111111111, \"#46039f\"], [0.2222222222222222, \"#7201a8\"], [0.3333333333333333, \"#9c179e\"], [0.4444444444444444, \"#bd3786\"], [0.5555555555555556, \"#d8576b\"], [0.6666666666666666, \"#ed7953\"], [0.7777777777777778, \"#fb9f3a\"], [0.8888888888888888, \"#fdca26\"], [1.0, \"#f0f921\"]], \"type\": \"heatmapgl\"}], \"histogram\": [{\"marker\": {\"colorbar\": {\"outlinewidth\": 0, \"ticks\": \"\"}}, \"type\": \"histogram\"}], \"histogram2d\": [{\"colorbar\": {\"outlinewidth\": 0, \"ticks\": \"\"}, \"colorscale\": [[0.0, \"#0d0887\"], [0.1111111111111111, \"#46039f\"], [0.2222222222222222, \"#7201a8\"], [0.3333333333333333, \"#9c179e\"], [0.4444444444444444, \"#bd3786\"], [0.5555555555555556, \"#d8576b\"], [0.6666666666666666, \"#ed7953\"], [0.7777777777777778, \"#fb9f3a\"], [0.8888888888888888, \"#fdca26\"], [1.0, \"#f0f921\"]], \"type\": \"histogram2d\"}], \"histogram2dcontour\": [{\"colorbar\": {\"outlinewidth\": 0, \"ticks\": \"\"}, \"colorscale\": [[0.0, \"#0d0887\"], [0.1111111111111111, \"#46039f\"], [0.2222222222222222, \"#7201a8\"], [0.3333333333333333, \"#9c179e\"], [0.4444444444444444, \"#bd3786\"], [0.5555555555555556, \"#d8576b\"], [0.6666666666666666, \"#ed7953\"], [0.7777777777777778, \"#fb9f3a\"], [0.8888888888888888, \"#fdca26\"], [1.0, \"#f0f921\"]], \"type\": \"histogram2dcontour\"}], \"mesh3d\": [{\"colorbar\": {\"outlinewidth\": 0, \"ticks\": \"\"}, \"type\": \"mesh3d\"}], \"parcoords\": [{\"line\": {\"colorbar\": {\"outlinewidth\": 0, \"ticks\": \"\"}}, \"type\": \"parcoords\"}], \"pie\": [{\"automargin\": true, \"type\": \"pie\"}], \"scatter\": [{\"marker\": {\"colorbar\": {\"outlinewidth\": 0, \"ticks\": \"\"}}, \"type\": \"scatter\"}], \"scatter3d\": [{\"line\": {\"colorbar\": {\"outlinewidth\": 0, \"ticks\": \"\"}}, \"marker\": {\"colorbar\": {\"outlinewidth\": 0, \"ticks\": \"\"}}, \"type\": \"scatter3d\"}], \"scattercarpet\": [{\"marker\": {\"colorbar\": {\"outlinewidth\": 0, \"ticks\": \"\"}}, \"type\": \"scattercarpet\"}], \"scattergeo\": [{\"marker\": {\"colorbar\": {\"outlinewidth\": 0, \"ticks\": \"\"}}, \"type\": \"scattergeo\"}], \"scattergl\": [{\"marker\": {\"colorbar\": {\"outlinewidth\": 0, \"ticks\": \"\"}}, \"type\": \"scattergl\"}], \"scattermapbox\": [{\"marker\": {\"colorbar\": {\"outlinewidth\": 0, \"ticks\": \"\"}}, \"type\": \"scattermapbox\"}], \"scatterpolar\": [{\"marker\": {\"colorbar\": {\"outlinewidth\": 0, \"ticks\": \"\"}}, \"type\": \"scatterpolar\"}], \"scatterpolargl\": [{\"marker\": {\"colorbar\": {\"outlinewidth\": 0, \"ticks\": \"\"}}, \"type\": \"scatterpolargl\"}], \"scatterternary\": [{\"marker\": {\"colorbar\": {\"outlinewidth\": 0, \"ticks\": \"\"}}, \"type\": \"scatterternary\"}], \"surface\": [{\"colorbar\": {\"outlinewidth\": 0, \"ticks\": \"\"}, \"colorscale\": [[0.0, \"#0d0887\"], [0.1111111111111111, \"#46039f\"], [0.2222222222222222, \"#7201a8\"], [0.3333333333333333, \"#9c179e\"], [0.4444444444444444, \"#bd3786\"], [0.5555555555555556, \"#d8576b\"], [0.6666666666666666, \"#ed7953\"], [0.7777777777777778, \"#fb9f3a\"], [0.8888888888888888, \"#fdca26\"], [1.0, \"#f0f921\"]], \"type\": \"surface\"}], \"table\": [{\"cells\": {\"fill\": {\"color\": \"#EBF0F8\"}, \"line\": {\"color\": \"white\"}}, \"header\": {\"fill\": {\"color\": \"#C8D4E3\"}, \"line\": {\"color\": \"white\"}}, \"type\": \"table\"}]}, \"layout\": {\"annotationdefaults\": {\"arrowcolor\": \"#2a3f5f\", \"arrowhead\": 0, \"arrowwidth\": 1}, \"coloraxis\": {\"colorbar\": {\"outlinewidth\": 0, \"ticks\": \"\"}}, \"colorscale\": {\"diverging\": [[0, \"#8e0152\"], [0.1, \"#c51b7d\"], [0.2, \"#de77ae\"], [0.3, \"#f1b6da\"], [0.4, \"#fde0ef\"], [0.5, \"#f7f7f7\"], [0.6, \"#e6f5d0\"], [0.7, \"#b8e186\"], [0.8, \"#7fbc41\"], [0.9, \"#4d9221\"], [1, \"#276419\"]], \"sequential\": [[0.0, \"#0d0887\"], [0.1111111111111111, \"#46039f\"], [0.2222222222222222, \"#7201a8\"], [0.3333333333333333, \"#9c179e\"], [0.4444444444444444, \"#bd3786\"], [0.5555555555555556, \"#d8576b\"], [0.6666666666666666, \"#ed7953\"], [0.7777777777777778, \"#fb9f3a\"], [0.8888888888888888, \"#fdca26\"], [1.0, \"#f0f921\"]], \"sequentialminus\": [[0.0, \"#0d0887\"], [0.1111111111111111, \"#46039f\"], [0.2222222222222222, \"#7201a8\"], [0.3333333333333333, \"#9c179e\"], [0.4444444444444444, \"#bd3786\"], [0.5555555555555556, \"#d8576b\"], [0.6666666666666666, \"#ed7953\"], [0.7777777777777778, \"#fb9f3a\"], [0.8888888888888888, \"#fdca26\"], [1.0, \"#f0f921\"]]}, \"colorway\": [\"#636efa\", \"#EF553B\", \"#00cc96\", \"#ab63fa\", \"#FFA15A\", \"#19d3f3\", \"#FF6692\", \"#B6E880\", \"#FF97FF\", \"#FECB52\"], \"font\": {\"color\": \"#2a3f5f\"}, \"geo\": {\"bgcolor\": \"white\", \"lakecolor\": \"white\", \"landcolor\": \"#E5ECF6\", \"showlakes\": true, \"showland\": true, \"subunitcolor\": \"white\"}, \"hoverlabel\": {\"align\": \"left\"}, \"hovermode\": \"closest\", \"mapbox\": {\"style\": \"light\"}, \"paper_bgcolor\": \"white\", \"plot_bgcolor\": \"#E5ECF6\", \"polar\": {\"angularaxis\": {\"gridcolor\": \"white\", \"linecolor\": \"white\", \"ticks\": \"\"}, \"bgcolor\": \"#E5ECF6\", \"radialaxis\": {\"gridcolor\": \"white\", \"linecolor\": \"white\", \"ticks\": \"\"}}, \"scene\": {\"xaxis\": {\"backgroundcolor\": \"#E5ECF6\", \"gridcolor\": \"white\", \"gridwidth\": 2, \"linecolor\": \"white\", \"showbackground\": true, \"ticks\": \"\", \"zerolinecolor\": \"white\"}, \"yaxis\": {\"backgroundcolor\": \"#E5ECF6\", \"gridcolor\": \"white\", \"gridwidth\": 2, \"linecolor\": \"white\", \"showbackground\": true, \"ticks\": \"\", \"zerolinecolor\": \"white\"}, \"zaxis\": {\"backgroundcolor\": \"#E5ECF6\", \"gridcolor\": \"white\", \"gridwidth\": 2, \"linecolor\": \"white\", \"showbackground\": true, \"ticks\": \"\", \"zerolinecolor\": \"white\"}}, \"shapedefaults\": {\"line\": {\"color\": \"#2a3f5f\"}}, \"ternary\": {\"aaxis\": {\"gridcolor\": \"white\", \"linecolor\": \"white\", \"ticks\": \"\"}, \"baxis\": {\"gridcolor\": \"white\", \"linecolor\": \"white\", \"ticks\": \"\"}, \"bgcolor\": \"#E5ECF6\", \"caxis\": {\"gridcolor\": \"white\", \"linecolor\": \"white\", \"ticks\": \"\"}}, \"title\": {\"x\": 0.05}, \"xaxis\": {\"automargin\": true, \"gridcolor\": \"white\", \"linecolor\": \"white\", \"ticks\": \"\", \"title\": {\"standoff\": 15}, \"zerolinecolor\": \"white\", \"zerolinewidth\": 2}, \"yaxis\": {\"automargin\": true, \"gridcolor\": \"white\", \"linecolor\": \"white\", \"ticks\": \"\", \"title\": {\"standoff\": 15}, \"zerolinecolor\": \"white\", \"zerolinewidth\": 2}}}, \"title\": {\"text\": \"15 Worst hit countries\"}, \"width\": 700, \"xaxis\": {\"anchor\": \"y\", \"categoryarray\": [\"US\", \"India\", \"Brazil\", \"United Kingdom\", \"Russia\", \"Turkey\", \"France\", \"Iran\", \"Germany\", \"Argentina\", \"Spain\", \"Italy\", \"Colombia\", \"Indonesia\", \"Mexico\"], \"categoryorder\": \"array\", \"domain\": [0.0, 1.0], \"title\": {\"text\": \"Countries\"}}, \"yaxis\": {\"anchor\": \"x\", \"domain\": [0.0, 1.0], \"title\": {\"text\": \"Confirmed Cases\"}}},\n                        {\"responsive\": true}\n                    ).then(function(){\n                            \nvar gd = document.getElementById('9c4858bf-1f89-4320-9c60-7e4fdb200875');\nvar x = new MutationObserver(function (mutations, observer) {{\n        var display = window.getComputedStyle(gd).display;\n        if (!display || display === 'none') {{\n            console.log([gd, 'removed!']);\n            Plotly.purge(gd);\n            observer.disconnect();\n        }}\n}});\n\n// Listen for the removal of the full notebook cells\nvar notebookContainer = gd.closest('#notebook-container');\nif (notebookContainer) {{\n    x.observe(notebookContainer, {childList: true});\n}}\n\n// Listen for the clearing of the current output cell\nvar outputEl = gd.closest('.output');\nif (outputEl) {{\n    x.observe(outputEl, {childList: true});\n}}\n\n                        })\n                };\n                \n            </script>\n        </div>\n</body>\n</html>"
        },
        "metadata": {},
        "output_type": "display_data"
       }
      ]
     }
    },
    "0ed8eea10ede46e4893ea774dc8000a4": {
     "model_module": "@jupyter-widgets/output",
     "model_module_version": "1.0.0",
     "model_name": "OutputModel",
     "state": {
      "_dom_classes": [],
      "_model_module": "@jupyter-widgets/output",
      "_model_module_version": "1.0.0",
      "_model_name": "OutputModel",
      "_view_count": null,
      "_view_module": "@jupyter-widgets/output",
      "_view_module_version": "1.0.0",
      "_view_name": "OutputView",
      "layout": "IPY_MODEL_e4a803591b794a428186aec9fd135c47",
      "msg_id": "",
      "outputs": [
       {
        "data": {
         "text/html": "<html>\n<head><meta charset=\"utf-8\" /></head>\n<body>\n    <div>\n            <script src=\"https://cdnjs.cloudflare.com/ajax/libs/mathjax/2.7.5/MathJax.js?config=TeX-AMS-MML_SVG\"></script><script type=\"text/javascript\">if (window.MathJax) {MathJax.Hub.Config({SVG: {font: \"STIX-Web\"}});}</script>\n                <script type=\"text/javascript\">window.PlotlyConfig = {MathJaxConfig: 'local'};</script>\n        <script src=\"https://cdn.plot.ly/plotly-latest.min.js\"></script>    \n            <div id=\"bbd113c8-e7eb-4426-8062-2675404e798c\" class=\"plotly-graph-div\" style=\"height:525px; width:100%;\"></div>\n            <script type=\"text/javascript\">\n                \n                    window.PLOTLYENV=window.PLOTLYENV || {};\n                    \n                if (document.getElementById(\"bbd113c8-e7eb-4426-8062-2675404e798c\")) {\n                    Plotly.newPlot(\n                        'bbd113c8-e7eb-4426-8062-2675404e798c',\n                        [{\"connectgaps\": true, \"line\": {\"color\": \"blue\", \"width\": 4}, \"mode\": \"lines+markers\", \"name\": \"confirmed\", \"text\": \"Total confirmed: 34615757\", \"type\": \"scatter\", \"x\": [\"1/23/20\", \"1/24/20\", \"1/25/20\", \"1/26/20\", \"1/27/20\", \"1/28/20\", \"1/29/20\", \"1/30/20\", \"1/31/20\", \"2/1/20\", \"2/2/20\", \"2/3/20\", \"2/4/20\", \"2/5/20\", \"2/6/20\", \"2/7/20\", \"2/8/20\", \"2/9/20\", \"2/10/20\", \"2/11/20\", \"2/12/20\", \"2/13/20\", \"2/14/20\", \"2/15/20\", \"2/16/20\", \"2/17/20\", \"2/18/20\", \"2/19/20\", \"2/20/20\", \"2/21/20\", \"2/22/20\", \"2/23/20\", \"2/24/20\", \"2/25/20\", \"2/26/20\", \"2/27/20\", \"2/28/20\", \"2/29/20\", \"3/1/20\", \"3/2/20\", \"3/3/20\", \"3/4/20\", \"3/5/20\", \"3/6/20\", \"3/7/20\", \"3/8/20\", \"3/9/20\", \"3/10/20\", \"3/11/20\", \"3/12/20\", \"3/13/20\", \"3/14/20\", \"3/15/20\", \"3/16/20\", \"3/17/20\", \"3/18/20\", \"3/19/20\", \"3/20/20\", \"3/21/20\", \"3/22/20\", \"3/23/20\", \"3/24/20\", \"3/25/20\", \"3/26/20\", \"3/27/20\", \"3/28/20\", \"3/29/20\", \"3/30/20\", \"3/31/20\", \"4/1/20\", \"4/2/20\", \"4/3/20\", \"4/4/20\", \"4/5/20\", \"4/6/20\", \"4/7/20\", \"4/8/20\", \"4/9/20\", \"4/10/20\", \"4/11/20\", \"4/12/20\", \"4/13/20\", \"4/14/20\", \"4/15/20\", \"4/16/20\", \"4/17/20\", \"4/18/20\", \"4/19/20\", \"4/20/20\", \"4/21/20\", \"4/22/20\", \"4/23/20\", \"4/24/20\", \"4/25/20\", \"4/26/20\", \"4/27/20\", \"4/28/20\", \"4/29/20\", \"4/30/20\", \"5/1/20\", \"5/2/20\", \"5/3/20\", \"5/4/20\", \"5/5/20\", \"5/6/20\", \"5/7/20\", \"5/8/20\", \"5/9/20\", \"5/10/20\", \"5/11/20\", \"5/12/20\", \"5/13/20\", \"5/14/20\", \"5/15/20\", \"5/16/20\", \"5/17/20\", \"5/18/20\", \"5/19/20\", \"5/20/20\", \"5/21/20\", \"5/22/20\", \"5/23/20\", \"5/24/20\", \"5/25/20\", \"5/26/20\", \"5/27/20\", \"5/28/20\", \"5/29/20\", \"5/30/20\", \"5/31/20\", \"6/1/20\", \"6/2/20\", \"6/3/20\", \"6/4/20\", \"6/5/20\", \"6/6/20\", \"6/7/20\", \"6/8/20\", \"6/9/20\", \"6/10/20\", \"6/11/20\", \"6/12/20\", \"6/13/20\", \"6/14/20\", \"6/15/20\", \"6/16/20\", \"6/17/20\", \"6/18/20\", \"6/19/20\", \"6/20/20\", \"6/21/20\", \"6/22/20\", \"6/23/20\", \"6/24/20\", \"6/25/20\", \"6/26/20\", \"6/27/20\", \"6/28/20\", \"6/29/20\", \"6/30/20\", \"7/1/20\", \"7/2/20\", \"7/3/20\", \"7/4/20\", \"7/5/20\", \"7/6/20\", \"7/7/20\", \"7/8/20\", \"7/9/20\", \"7/10/20\", \"7/11/20\", \"7/12/20\", \"7/13/20\", \"7/14/20\", \"7/15/20\", \"7/16/20\", \"7/17/20\", \"7/18/20\", \"7/19/20\", \"7/20/20\", \"7/21/20\", \"7/22/20\", \"7/23/20\", \"7/24/20\", \"7/25/20\", \"7/26/20\", \"7/27/20\", \"7/28/20\", \"7/29/20\", \"7/30/20\", \"7/31/20\", \"8/1/20\", \"8/2/20\", \"8/3/20\", \"8/4/20\", \"8/5/20\", \"8/6/20\", \"8/7/20\", \"8/8/20\", \"8/9/20\", \"8/10/20\", \"8/11/20\", \"8/12/20\", \"8/13/20\", \"8/14/20\", \"8/15/20\", \"8/16/20\", \"8/17/20\", \"8/18/20\", \"8/19/20\", \"8/20/20\", \"8/21/20\", \"8/22/20\", \"8/23/20\", \"8/24/20\", \"8/25/20\", \"8/26/20\", \"8/27/20\", \"8/28/20\", \"8/29/20\", \"8/30/20\", \"8/31/20\", \"9/1/20\", \"9/2/20\", \"9/3/20\", \"9/4/20\", \"9/5/20\", \"9/6/20\", \"9/7/20\", \"9/8/20\", \"9/9/20\", \"9/10/20\", \"9/11/20\", \"9/12/20\", \"9/13/20\", \"9/14/20\", \"9/15/20\", \"9/16/20\", \"9/17/20\", \"9/18/20\", \"9/19/20\", \"9/20/20\", \"9/21/20\", \"9/22/20\", \"9/23/20\", \"9/24/20\", \"9/25/20\", \"9/26/20\", \"9/27/20\", \"9/28/20\", \"9/29/20\", \"9/30/20\", \"10/1/20\", \"10/2/20\", \"10/3/20\", \"10/4/20\", \"10/5/20\", \"10/6/20\", \"10/7/20\", \"10/8/20\", \"10/9/20\", \"10/10/20\", \"10/11/20\", \"10/12/20\", \"10/13/20\", \"10/14/20\", \"10/15/20\", \"10/16/20\", \"10/17/20\", \"10/18/20\", \"10/19/20\", \"10/20/20\", \"10/21/20\", \"10/22/20\", \"10/23/20\", \"10/24/20\", \"10/25/20\", \"10/26/20\", \"10/27/20\", \"10/28/20\", \"10/29/20\", \"10/30/20\", \"10/31/20\", \"11/1/20\", \"11/2/20\", \"11/3/20\", \"11/4/20\", \"11/5/20\", \"11/6/20\", \"11/7/20\", \"11/8/20\", \"11/9/20\", \"11/10/20\", \"11/11/20\", \"11/12/20\", \"11/13/20\", \"11/14/20\", \"11/15/20\", \"11/16/20\", \"11/17/20\", \"11/18/20\", \"11/19/20\", \"11/20/20\", \"11/21/20\", \"11/22/20\", \"11/23/20\", \"11/24/20\", \"11/25/20\", \"11/26/20\", \"11/27/20\", \"11/28/20\", \"11/29/20\", \"11/30/20\", \"12/1/20\", \"12/2/20\", \"12/3/20\", \"12/4/20\", \"12/5/20\", \"12/6/20\", \"12/7/20\", \"12/8/20\", \"12/9/20\", \"12/10/20\", \"12/11/20\", \"12/12/20\", \"12/13/20\", \"12/14/20\", \"12/15/20\", \"12/16/20\", \"12/17/20\", \"12/18/20\", \"12/19/20\", \"12/20/20\", \"12/21/20\", \"12/22/20\", \"12/23/20\", \"12/24/20\", \"12/25/20\", \"12/26/20\", \"12/27/20\", \"12/28/20\", \"12/29/20\", \"12/30/20\", \"12/31/20\", \"1/1/21\", \"1/2/21\", \"1/3/21\", \"1/4/21\", \"1/5/21\", \"1/6/21\", \"1/7/21\", \"1/8/21\", \"1/9/21\", \"1/10/21\", \"1/11/21\", \"1/12/21\", \"1/13/21\", \"1/14/21\", \"1/15/21\", \"1/16/21\", \"1/17/21\", \"1/18/21\", \"1/19/21\", \"1/20/21\", \"1/21/21\", \"1/22/21\", \"1/23/21\", \"1/24/21\", \"1/25/21\", \"1/26/21\", \"1/27/21\", \"1/28/21\", \"1/29/21\", \"1/30/21\", \"1/31/21\", \"2/1/21\", \"2/2/21\", \"2/3/21\", \"2/4/21\", \"2/5/21\", \"2/6/21\", \"2/7/21\", \"2/8/21\", \"2/9/21\", \"2/10/21\", \"2/11/21\", \"2/12/21\", \"2/13/21\", \"2/14/21\", \"2/15/21\", \"2/16/21\", \"2/17/21\", \"2/18/21\", \"2/19/21\", \"2/20/21\", \"2/21/21\", \"2/22/21\", \"2/23/21\", \"2/24/21\", \"2/25/21\", \"2/26/21\", \"2/27/21\", \"2/28/21\", \"3/1/21\", \"3/2/21\", \"3/3/21\", \"3/4/21\", \"3/5/21\", \"3/6/21\", \"3/7/21\", \"3/8/21\", \"3/9/21\", \"3/10/21\", \"3/11/21\", \"3/12/21\", \"3/13/21\", \"3/14/21\", \"3/15/21\", \"3/16/21\", \"3/17/21\", \"3/18/21\", \"3/19/21\", \"3/20/21\", \"3/21/21\", \"3/22/21\", \"3/23/21\", \"3/24/21\", \"3/25/21\", \"3/26/21\", \"3/27/21\", \"3/28/21\", \"3/29/21\", \"3/30/21\", \"3/31/21\", \"4/1/21\", \"4/2/21\", \"4/3/21\", \"4/4/21\", \"4/5/21\", \"4/6/21\", \"4/7/21\", \"4/8/21\", \"4/9/21\", \"4/10/21\", \"4/11/21\", \"4/12/21\", \"4/13/21\", \"4/14/21\", \"4/15/21\", \"4/16/21\", \"4/17/21\", \"4/18/21\", \"4/19/21\", \"4/20/21\", \"4/21/21\", \"4/22/21\", \"4/23/21\", \"4/24/21\", \"4/25/21\", \"4/26/21\", \"4/27/21\", \"4/28/21\", \"4/29/21\", \"4/30/21\", \"5/1/21\", \"5/2/21\", \"5/3/21\", \"5/4/21\", \"5/5/21\", \"5/6/21\", \"5/7/21\", \"5/8/21\", \"5/9/21\", \"5/10/21\", \"5/11/21\", \"5/12/21\", \"5/13/21\", \"5/14/21\", \"5/15/21\", \"5/16/21\", \"5/17/21\", \"5/18/21\", \"5/19/21\", \"5/20/21\", \"5/21/21\", \"5/22/21\", \"5/23/21\", \"5/24/21\", \"5/25/21\", \"5/26/21\", \"5/27/21\", \"5/28/21\", \"5/29/21\", \"5/30/21\", \"5/31/21\", \"6/1/21\", \"6/2/21\", \"6/3/21\", \"6/4/21\", \"6/5/21\", \"6/6/21\", \"6/7/21\", \"6/8/21\", \"6/9/21\", \"6/10/21\", \"6/11/21\", \"6/12/21\", \"6/13/21\", \"6/14/21\", \"6/15/21\", \"6/16/21\", \"6/17/21\", \"6/18/21\", \"6/19/21\", \"6/20/21\", \"6/21/21\", \"6/22/21\", \"6/23/21\", \"6/24/21\", \"6/25/21\", \"6/26/21\", \"6/27/21\", \"6/28/21\", \"6/29/21\", \"6/30/21\", \"7/1/21\", \"7/2/21\", \"7/3/21\", \"7/4/21\", \"7/5/21\", \"7/6/21\", \"7/7/21\", \"7/8/21\", \"7/9/21\", \"7/10/21\", \"7/11/21\", \"7/12/21\", \"7/13/21\", \"7/14/21\", \"7/15/21\", \"7/16/21\", \"7/17/21\", \"7/18/21\", \"7/19/21\", \"7/20/21\", \"7/21/21\", \"7/22/21\", \"7/23/21\", \"7/24/21\", \"7/25/21\", \"7/26/21\", \"7/27/21\", \"7/28/21\", \"7/29/21\", \"7/30/21\", \"7/31/21\", \"8/1/21\", \"8/2/21\", \"8/3/21\", \"8/4/21\", \"8/5/21\", \"8/6/21\", \"8/7/21\", \"8/8/21\", \"8/9/21\", \"8/10/21\", \"8/11/21\", \"8/12/21\", \"8/13/21\", \"8/14/21\", \"8/15/21\", \"8/16/21\", \"8/17/21\", \"8/18/21\", \"8/19/21\", \"8/20/21\", \"8/21/21\", \"8/22/21\", \"8/23/21\", \"8/24/21\", \"8/25/21\", \"8/26/21\", \"8/27/21\", \"8/28/21\", \"8/29/21\", \"8/30/21\", \"8/31/21\", \"9/1/21\", \"9/2/21\", \"9/3/21\", \"9/4/21\", \"9/5/21\", \"9/6/21\", \"9/7/21\", \"9/8/21\", \"9/9/21\", \"9/10/21\", \"9/11/21\", \"9/12/21\", \"9/13/21\", \"9/14/21\", \"9/15/21\", \"9/16/21\", \"9/17/21\", \"9/18/21\", \"9/19/21\", \"9/20/21\", \"9/21/21\", \"9/22/21\", \"9/23/21\", \"9/24/21\", \"9/25/21\", \"9/26/21\", \"9/27/21\", \"9/28/21\", \"9/29/21\", \"9/30/21\", \"10/1/21\", \"10/2/21\", \"10/3/21\", \"10/4/21\", \"10/5/21\", \"10/6/21\", \"10/7/21\", \"10/8/21\", \"10/9/21\", \"10/10/21\", \"10/11/21\", \"10/12/21\", \"10/13/21\", \"10/14/21\", \"10/15/21\", \"10/16/21\", \"10/17/21\", \"10/18/21\", \"10/19/21\", \"10/20/21\", \"10/21/21\", \"10/22/21\", \"10/23/21\", \"10/24/21\", \"10/25/21\", \"10/26/21\", \"10/27/21\", \"10/28/21\", \"10/29/21\", \"10/30/21\", \"10/31/21\", \"11/1/21\", \"11/2/21\", \"11/3/21\", \"11/4/21\", \"11/5/21\", \"11/6/21\", \"11/7/21\", \"11/8/21\", \"11/9/21\", \"11/10/21\", \"11/11/21\", \"11/12/21\", \"11/13/21\", \"11/14/21\", \"11/15/21\", \"11/16/21\", \"11/17/21\", \"11/18/21\", \"11/19/21\", \"11/20/21\", \"11/21/21\", \"11/22/21\", \"11/23/21\", \"11/24/21\", \"11/25/21\", \"11/26/21\", \"11/27/21\", \"11/28/21\", \"11/29/21\", \"11/30/21\", \"12/1/21\", \"12/2/21\"], \"y\": [0, 0, 0, 0, 0, 0, 0, 1, 1, 1, 2, 3, 3, 3, 3, 3, 3, 3, 3, 3, 3, 3, 3, 3, 3, 3, 3, 3, 3, 3, 3, 3, 3, 3, 3, 3, 3, 3, 3, 5, 5, 28, 30, 31, 34, 39, 43, 56, 62, 73, 82, 102, 113, 119, 142, 156, 194, 244, 330, 396, 499, 536, 657, 727, 887, 987, 1024, 1251, 1397, 1998, 2543, 2567, 3082, 3588, 4778, 5311, 5916, 6725, 7598, 8446, 9205, 10453, 11487, 12322, 13430, 14352, 15722, 17615, 18539, 20080, 21370, 23077, 24530, 26283, 27890, 29451, 31324, 33062, 34863, 37257, 39699, 42505, 46437, 49400, 52987, 56351, 59695, 62808, 67161, 70768, 74292, 78055, 81997, 85784, 90648, 95698, 100328, 106475, 112028, 118226, 124794, 131423, 138536, 144950, 150793, 158086, 165386, 173491, 181827, 190609, 198370, 207191, 216824, 226713, 236184, 246622, 257486, 265928, 276146, 286605, 297535, 308993, 320922, 332424, 343091, 354065, 366946, 380532, 395048, 410451, 425282, 440215, 456183, 473105, 490401, 508953, 528859, 548318, 566840, 585481, 604641, 625544, 648315, 673165, 697413, 719664, 742417, 767296, 793802, 820916, 849522, 878254, 906752, 936181, 968857, 1003832, 1039084, 1077781, 1118206, 1155338, 1193078, 1238798, 1288108, 1337024, 1385635, 1435616, 1480073, 1531669, 1581963, 1634746, 1695988, 1750723, 1803695, 1855745, 1908254, 1964536, 2027074, 2088611, 2153010, 2215074, 2268675, 2329638, 2396637, 2461190, 2525922, 2589952, 2647663, 2702681, 2767253, 2836925, 2905825, 2975701, 3044940, 3106348, 3167323, 3224547, 3310234, 3387500, 3463972, 3542733, 3621245, 3691166, 3769523, 3853406, 3936747, 4023179, 4113811, 4204613, 4280422, 4370128, 4465863, 4562414, 4659984, 4754356, 4846427, 4930236, 5020359, 5118253, 5214677, 5308014, 5400619, 5487580, 5562663, 5646010, 5732518, 5818570, 5903932, 5992532, 6074702, 6145291, 6225763, 6312584, 6394068, 6473544, 6549373, 6623815, 6685082, 6757131, 6835655, 6906151, 6979423, 7053806, 7120538, 7175880, 7239389, 7307097, 7370468, 7432680, 7494551, 7550273, 7597063, 7651107, 7706946, 7761312, 7814682, 7864811, 7909959, 7946429, 7990322, 8040203, 8088851, 8137119, 8184082, 8229313, 8267623, 8313876, 8364086, 8411724, 8462080, 8507754, 8553657, 8591730, 8636011, 8683916, 8728795, 8773479, 8814579, 8845127, 8874290, 8912907, 8958483, 9004365, 9050597, 9095806, 9139865, 9177840, 9222216, 9266705, 9309787, 9351109, 9392919, 9431691, 9462809, 9499413, 9534964, 9571559, 9608211, 9644222, 9677203, 9703770, 9735850, 9767371, 9796744, 9826775, 9857029, 9884100, 9906165, 9932547, 9956557, 9979447, 10004599, 10031223, 10055560, 10075116, 10099066, 10123778, 10146845, 10169118, 10187850, 10207871, 10224303, 10244852, 10266674, 10286709, 10305788, 10323965, 10340469, 10356844, 10374932, 10395278, 10413417, 10413417, 10450284, 10466595, 10479179, 10495147, 10512093, 10527683, 10542841, 10557985, 10571773, 10581823, 10595639, 10610883, 10625428, 10639684, 10654533, 10667736, 10676838, 10689527, 10701193, 10720048, 10733130, 10746174, 10757610, 10766245, 10777284, 10790183, 10802591, 10814304, 10826363, 10838194, 10847304, 10858371, 10871294, 10880603, 10892746, 10904940, 10916589, 10925710, 10937320, 10950201, 10963394, 10977387, 10991651, 11005850, 11016434, 11030176, 11046914, 11063491, 11079979, 11096731, 11112241, 11124527, 11139516, 11156923, 11173761, 11192045, 11210799, 11229398, 11244786, 11262707, 11285561, 11308846, 11333728, 11359048, 11385339, 11409831, 11438734, 11474605, 11514331, 11555284, 11599130, 11646081, 11686796, 11734058, 11787534, 11846652, 11908910, 11971624, 12039644, 12095855, 12149335, 12221665, 12303131, 12392260, 12485509, 12589067, 12686049, 12801785, 12928574, 13060542, 13205926, 13358805, 13527717, 13689453, 13873825, 14074564, 14291917, 14526609, 14788003, 15061805, 15320972, 15616130, 15930774, 16263695, 16610481, 16960172, 17313163, 17636186, 17997113, 18376421, 18762976, 19164969, 19557457, 19925517, 20282833, 20664979, 21077410, 21491598, 21892676, 22296081, 22662575, 22992517, 23340938, 23703665, 24046809, 24372907, 24684077, 24965463, 25228996, 25496330, 25772440, 26031991, 26289290, 26530132, 26752447, 26948874, 27157795, 27369093, 27555457, 27729247, 27894800, 28047534, 28175044, 28307832, 28441986, 28574350, 28694879, 28809339, 28909975, 28996473, 29089069, 29182532, 29274823, 29359155, 29439989, 29510410, 29570881, 29633105, 29700313, 29762793, 29823546, 29881772, 29935221, 29977861, 30028709, 30082778, 30134445, 30183143, 30233183, 30279331, 30316897, 30362848, 30411634, 30458251, 30502362, 30545433, 30585229, 30619932, 30663665, 30709557, 30752950, 30795716, 30837222, 30874376, 30907282, 30946147, 30987880, 31026829, 31064908, 31106065, 31144229, 31174322, 31216337, 31257720, 31293062, 31332159, 31371901, 31411262, 31440951, 31484605, 31528114, 31572344, 31613993, 31655824, 31695958, 31726507, 31769132, 31812114, 31856757, 31895385, 31934455, 31969954, 31998158, 32036511, 32077706, 32117826, 32156493, 32192576, 32225513, 32250679, 32285857, 32322258, 32358829, 32393286, 32424234, 32449306, 32474773, 32512366, 32558530, 32603188, 32649947, 32695030, 32737939, 32768880, 32810845, 32857937, 32903289, 32945907, 32988673, 33027621, 33058843, 33096718, 33139981, 33174954, 33208330, 33236921, 33264175, 33289579, 33316755, 33347325, 33381728, 33417390, 33448163, 33478419, 33504534, 33531498, 33563421, 33594803, 33624419, 33652745, 33678786, 33697581, 33716451, 33739980, 33766707, 33791061, 33813903, 33834702, 33853048, 33871881, 33894312, 33915569, 33935309, 33953475, 33971607, 33985920, 34001743, 34020730, 34037592, 34053573, 34067719, 34081315, 34094373, 34108996, 34127450, 34143236, 34159562, 34175468, 34189774, 34202202, 34215653, 34231809, 34246157, 34260470, 34273300, 34285814, 34296237, 34308140, 34321025, 34333754, 34344683, 34355509, 34366987, 34377113, 34388579, 34401670, 34414186, 34426036, 34437307, 34447536, 34456401, 34466598, 34478517, 34489623, 34499925, 34510413, 34518901, 34526480, 34535763, 34544882, 34555431, 34563749, 34572523, 34580832, 34587822, 34596776, 34606541, 34615757]}, {\"connectgaps\": true, \"line\": {\"color\": \"red\", \"width\": 5}, \"mode\": \"lines+markers\", \"name\": \"deaths\", \"text\": \"Total deaths: 470115\", \"type\": \"scatter\", \"x\": [\"1/23/20\", \"1/24/20\", \"1/25/20\", \"1/26/20\", \"1/27/20\", \"1/28/20\", \"1/29/20\", \"1/30/20\", \"1/31/20\", \"2/1/20\", \"2/2/20\", \"2/3/20\", \"2/4/20\", \"2/5/20\", \"2/6/20\", \"2/7/20\", \"2/8/20\", \"2/9/20\", \"2/10/20\", \"2/11/20\", \"2/12/20\", \"2/13/20\", \"2/14/20\", \"2/15/20\", \"2/16/20\", \"2/17/20\", \"2/18/20\", \"2/19/20\", \"2/20/20\", \"2/21/20\", \"2/22/20\", \"2/23/20\", \"2/24/20\", \"2/25/20\", \"2/26/20\", \"2/27/20\", \"2/28/20\", \"2/29/20\", \"3/1/20\", \"3/2/20\", \"3/3/20\", \"3/4/20\", \"3/5/20\", \"3/6/20\", \"3/7/20\", \"3/8/20\", \"3/9/20\", \"3/10/20\", \"3/11/20\", \"3/12/20\", \"3/13/20\", \"3/14/20\", \"3/15/20\", \"3/16/20\", \"3/17/20\", \"3/18/20\", \"3/19/20\", \"3/20/20\", \"3/21/20\", \"3/22/20\", \"3/23/20\", \"3/24/20\", \"3/25/20\", \"3/26/20\", \"3/27/20\", \"3/28/20\", \"3/29/20\", \"3/30/20\", \"3/31/20\", \"4/1/20\", \"4/2/20\", \"4/3/20\", \"4/4/20\", \"4/5/20\", \"4/6/20\", \"4/7/20\", \"4/8/20\", \"4/9/20\", \"4/10/20\", \"4/11/20\", \"4/12/20\", \"4/13/20\", \"4/14/20\", \"4/15/20\", \"4/16/20\", \"4/17/20\", \"4/18/20\", \"4/19/20\", \"4/20/20\", \"4/21/20\", \"4/22/20\", \"4/23/20\", \"4/24/20\", \"4/25/20\", \"4/26/20\", \"4/27/20\", \"4/28/20\", \"4/29/20\", \"4/30/20\", \"5/1/20\", \"5/2/20\", \"5/3/20\", \"5/4/20\", \"5/5/20\", \"5/6/20\", \"5/7/20\", \"5/8/20\", \"5/9/20\", \"5/10/20\", \"5/11/20\", \"5/12/20\", \"5/13/20\", \"5/14/20\", \"5/15/20\", \"5/16/20\", \"5/17/20\", \"5/18/20\", \"5/19/20\", \"5/20/20\", \"5/21/20\", \"5/22/20\", \"5/23/20\", \"5/24/20\", \"5/25/20\", \"5/26/20\", \"5/27/20\", \"5/28/20\", \"5/29/20\", \"5/30/20\", \"5/31/20\", \"6/1/20\", \"6/2/20\", \"6/3/20\", \"6/4/20\", \"6/5/20\", \"6/6/20\", \"6/7/20\", \"6/8/20\", \"6/9/20\", \"6/10/20\", \"6/11/20\", \"6/12/20\", \"6/13/20\", \"6/14/20\", \"6/15/20\", \"6/16/20\", \"6/17/20\", \"6/18/20\", \"6/19/20\", \"6/20/20\", \"6/21/20\", \"6/22/20\", \"6/23/20\", \"6/24/20\", \"6/25/20\", \"6/26/20\", \"6/27/20\", \"6/28/20\", \"6/29/20\", \"6/30/20\", \"7/1/20\", \"7/2/20\", \"7/3/20\", \"7/4/20\", \"7/5/20\", \"7/6/20\", \"7/7/20\", \"7/8/20\", \"7/9/20\", \"7/10/20\", \"7/11/20\", \"7/12/20\", \"7/13/20\", \"7/14/20\", \"7/15/20\", \"7/16/20\", \"7/17/20\", \"7/18/20\", \"7/19/20\", \"7/20/20\", \"7/21/20\", \"7/22/20\", \"7/23/20\", \"7/24/20\", \"7/25/20\", \"7/26/20\", \"7/27/20\", \"7/28/20\", \"7/29/20\", \"7/30/20\", \"7/31/20\", \"8/1/20\", \"8/2/20\", \"8/3/20\", \"8/4/20\", \"8/5/20\", \"8/6/20\", \"8/7/20\", \"8/8/20\", \"8/9/20\", \"8/10/20\", \"8/11/20\", \"8/12/20\", \"8/13/20\", \"8/14/20\", \"8/15/20\", \"8/16/20\", \"8/17/20\", \"8/18/20\", \"8/19/20\", \"8/20/20\", \"8/21/20\", \"8/22/20\", \"8/23/20\", \"8/24/20\", \"8/25/20\", \"8/26/20\", \"8/27/20\", \"8/28/20\", \"8/29/20\", \"8/30/20\", \"8/31/20\", \"9/1/20\", \"9/2/20\", \"9/3/20\", \"9/4/20\", \"9/5/20\", \"9/6/20\", \"9/7/20\", \"9/8/20\", \"9/9/20\", \"9/10/20\", \"9/11/20\", \"9/12/20\", \"9/13/20\", \"9/14/20\", \"9/15/20\", \"9/16/20\", \"9/17/20\", \"9/18/20\", \"9/19/20\", \"9/20/20\", \"9/21/20\", \"9/22/20\", \"9/23/20\", \"9/24/20\", \"9/25/20\", \"9/26/20\", \"9/27/20\", \"9/28/20\", \"9/29/20\", \"9/30/20\", \"10/1/20\", \"10/2/20\", \"10/3/20\", \"10/4/20\", \"10/5/20\", \"10/6/20\", \"10/7/20\", \"10/8/20\", \"10/9/20\", \"10/10/20\", \"10/11/20\", \"10/12/20\", \"10/13/20\", \"10/14/20\", \"10/15/20\", \"10/16/20\", \"10/17/20\", \"10/18/20\", \"10/19/20\", \"10/20/20\", \"10/21/20\", \"10/22/20\", \"10/23/20\", \"10/24/20\", \"10/25/20\", \"10/26/20\", \"10/27/20\", \"10/28/20\", \"10/29/20\", \"10/30/20\", \"10/31/20\", \"11/1/20\", \"11/2/20\", \"11/3/20\", \"11/4/20\", \"11/5/20\", \"11/6/20\", \"11/7/20\", \"11/8/20\", \"11/9/20\", \"11/10/20\", \"11/11/20\", \"11/12/20\", \"11/13/20\", \"11/14/20\", \"11/15/20\", \"11/16/20\", \"11/17/20\", \"11/18/20\", \"11/19/20\", \"11/20/20\", \"11/21/20\", \"11/22/20\", \"11/23/20\", \"11/24/20\", \"11/25/20\", \"11/26/20\", \"11/27/20\", \"11/28/20\", \"11/29/20\", \"11/30/20\", \"12/1/20\", \"12/2/20\", \"12/3/20\", \"12/4/20\", \"12/5/20\", \"12/6/20\", \"12/7/20\", \"12/8/20\", \"12/9/20\", \"12/10/20\", \"12/11/20\", \"12/12/20\", \"12/13/20\", \"12/14/20\", \"12/15/20\", \"12/16/20\", \"12/17/20\", \"12/18/20\", \"12/19/20\", \"12/20/20\", \"12/21/20\", \"12/22/20\", \"12/23/20\", \"12/24/20\", \"12/25/20\", \"12/26/20\", \"12/27/20\", \"12/28/20\", \"12/29/20\", \"12/30/20\", \"12/31/20\", \"1/1/21\", \"1/2/21\", \"1/3/21\", \"1/4/21\", \"1/5/21\", \"1/6/21\", \"1/7/21\", \"1/8/21\", \"1/9/21\", \"1/10/21\", \"1/11/21\", \"1/12/21\", \"1/13/21\", \"1/14/21\", \"1/15/21\", \"1/16/21\", \"1/17/21\", \"1/18/21\", \"1/19/21\", \"1/20/21\", \"1/21/21\", \"1/22/21\", \"1/23/21\", \"1/24/21\", \"1/25/21\", \"1/26/21\", \"1/27/21\", \"1/28/21\", \"1/29/21\", \"1/30/21\", \"1/31/21\", \"2/1/21\", \"2/2/21\", \"2/3/21\", \"2/4/21\", \"2/5/21\", \"2/6/21\", \"2/7/21\", \"2/8/21\", \"2/9/21\", \"2/10/21\", \"2/11/21\", \"2/12/21\", \"2/13/21\", \"2/14/21\", \"2/15/21\", \"2/16/21\", \"2/17/21\", \"2/18/21\", \"2/19/21\", \"2/20/21\", \"2/21/21\", \"2/22/21\", \"2/23/21\", \"2/24/21\", \"2/25/21\", \"2/26/21\", \"2/27/21\", \"2/28/21\", \"3/1/21\", \"3/2/21\", \"3/3/21\", \"3/4/21\", \"3/5/21\", \"3/6/21\", \"3/7/21\", \"3/8/21\", \"3/9/21\", \"3/10/21\", \"3/11/21\", \"3/12/21\", \"3/13/21\", \"3/14/21\", \"3/15/21\", \"3/16/21\", \"3/17/21\", \"3/18/21\", \"3/19/21\", \"3/20/21\", \"3/21/21\", \"3/22/21\", \"3/23/21\", \"3/24/21\", \"3/25/21\", \"3/26/21\", \"3/27/21\", \"3/28/21\", \"3/29/21\", \"3/30/21\", \"3/31/21\", \"4/1/21\", \"4/2/21\", \"4/3/21\", \"4/4/21\", \"4/5/21\", \"4/6/21\", \"4/7/21\", \"4/8/21\", \"4/9/21\", \"4/10/21\", \"4/11/21\", \"4/12/21\", \"4/13/21\", \"4/14/21\", \"4/15/21\", \"4/16/21\", \"4/17/21\", \"4/18/21\", \"4/19/21\", \"4/20/21\", \"4/21/21\", \"4/22/21\", \"4/23/21\", \"4/24/21\", \"4/25/21\", \"4/26/21\", \"4/27/21\", \"4/28/21\", \"4/29/21\", \"4/30/21\", \"5/1/21\", \"5/2/21\", \"5/3/21\", \"5/4/21\", \"5/5/21\", \"5/6/21\", \"5/7/21\", \"5/8/21\", \"5/9/21\", \"5/10/21\", \"5/11/21\", \"5/12/21\", \"5/13/21\", \"5/14/21\", \"5/15/21\", \"5/16/21\", \"5/17/21\", \"5/18/21\", \"5/19/21\", \"5/20/21\", \"5/21/21\", \"5/22/21\", \"5/23/21\", \"5/24/21\", \"5/25/21\", \"5/26/21\", \"5/27/21\", \"5/28/21\", \"5/29/21\", \"5/30/21\", \"5/31/21\", \"6/1/21\", \"6/2/21\", \"6/3/21\", \"6/4/21\", \"6/5/21\", \"6/6/21\", \"6/7/21\", \"6/8/21\", \"6/9/21\", \"6/10/21\", \"6/11/21\", \"6/12/21\", \"6/13/21\", \"6/14/21\", \"6/15/21\", \"6/16/21\", \"6/17/21\", \"6/18/21\", \"6/19/21\", \"6/20/21\", \"6/21/21\", \"6/22/21\", \"6/23/21\", \"6/24/21\", \"6/25/21\", \"6/26/21\", \"6/27/21\", \"6/28/21\", \"6/29/21\", \"6/30/21\", \"7/1/21\", \"7/2/21\", \"7/3/21\", \"7/4/21\", \"7/5/21\", \"7/6/21\", \"7/7/21\", \"7/8/21\", \"7/9/21\", \"7/10/21\", \"7/11/21\", \"7/12/21\", \"7/13/21\", \"7/14/21\", \"7/15/21\", \"7/16/21\", \"7/17/21\", \"7/18/21\", \"7/19/21\", \"7/20/21\", \"7/21/21\", \"7/22/21\", \"7/23/21\", \"7/24/21\", \"7/25/21\", \"7/26/21\", \"7/27/21\", \"7/28/21\", \"7/29/21\", \"7/30/21\", \"7/31/21\", \"8/1/21\", \"8/2/21\", \"8/3/21\", \"8/4/21\", \"8/5/21\", \"8/6/21\", \"8/7/21\", \"8/8/21\", \"8/9/21\", \"8/10/21\", \"8/11/21\", \"8/12/21\", \"8/13/21\", \"8/14/21\", \"8/15/21\", \"8/16/21\", \"8/17/21\", \"8/18/21\", \"8/19/21\", \"8/20/21\", \"8/21/21\", \"8/22/21\", \"8/23/21\", \"8/24/21\", \"8/25/21\", \"8/26/21\", \"8/27/21\", \"8/28/21\", \"8/29/21\", \"8/30/21\", \"8/31/21\", \"9/1/21\", \"9/2/21\", \"9/3/21\", \"9/4/21\", \"9/5/21\", \"9/6/21\", \"9/7/21\", \"9/8/21\", \"9/9/21\", \"9/10/21\", \"9/11/21\", \"9/12/21\", \"9/13/21\", \"9/14/21\", \"9/15/21\", \"9/16/21\", \"9/17/21\", \"9/18/21\", \"9/19/21\", \"9/20/21\", \"9/21/21\", \"9/22/21\", \"9/23/21\", \"9/24/21\", \"9/25/21\", \"9/26/21\", \"9/27/21\", \"9/28/21\", \"9/29/21\", \"9/30/21\", \"10/1/21\", \"10/2/21\", \"10/3/21\", \"10/4/21\", \"10/5/21\", \"10/6/21\", \"10/7/21\", \"10/8/21\", \"10/9/21\", \"10/10/21\", \"10/11/21\", \"10/12/21\", \"10/13/21\", \"10/14/21\", \"10/15/21\", \"10/16/21\", \"10/17/21\", \"10/18/21\", \"10/19/21\", \"10/20/21\", \"10/21/21\", \"10/22/21\", \"10/23/21\", \"10/24/21\", \"10/25/21\", \"10/26/21\", \"10/27/21\", \"10/28/21\", \"10/29/21\", \"10/30/21\", \"10/31/21\", \"11/1/21\", \"11/2/21\", \"11/3/21\", \"11/4/21\", \"11/5/21\", \"11/6/21\", \"11/7/21\", \"11/8/21\", \"11/9/21\", \"11/10/21\", \"11/11/21\", \"11/12/21\", \"11/13/21\", \"11/14/21\", \"11/15/21\", \"11/16/21\", \"11/17/21\", \"11/18/21\", \"11/19/21\", \"11/20/21\", \"11/21/21\", \"11/22/21\", \"11/23/21\", \"11/24/21\", \"11/25/21\", \"11/26/21\", \"11/27/21\", \"11/28/21\", \"11/29/21\", \"11/30/21\", \"12/1/21\", \"12/2/21\"], \"y\": [0, 0, 0, 0, 0, 0, 0, 0, 0, 0, 0, 0, 0, 0, 0, 0, 0, 0, 0, 0, 0, 0, 0, 0, 0, 0, 0, 0, 0, 0, 0, 0, 0, 0, 0, 0, 0, 0, 0, 0, 0, 0, 0, 0, 0, 0, 0, 0, 1, 1, 2, 2, 2, 2, 3, 3, 4, 5, 4, 7, 10, 10, 12, 20, 20, 24, 27, 32, 35, 58, 72, 72, 86, 99, 136, 150, 178, 226, 246, 288, 331, 358, 393, 405, 448, 486, 521, 559, 592, 645, 681, 721, 780, 825, 881, 939, 1008, 1079, 1154, 1223, 1323, 1391, 1566, 1693, 1785, 1889, 1985, 2101, 2212, 2294, 2415, 2551, 2649, 2753, 2871, 3025, 3156, 3302, 3434, 3584, 3726, 3868, 4024, 4172, 4344, 4534, 4711, 4980, 5185, 5408, 5608, 5829, 6088, 6363, 6649, 6946, 7207, 7473, 7750, 8102, 8498, 8884, 9195, 9520, 9900, 11903, 12237, 12573, 12948, 13254, 13699, 14011, 14476, 14894, 15301, 15685, 16095, 16475, 16893, 17400, 17834, 18213, 18655, 19268, 19693, 20159, 20642, 21129, 21604, 22123, 22673, 23174, 23727, 24309, 24914, 25602, 26273, 26816, 27497, 28082, 28732, 29861, 30601, 31358, 32060, 32771, 33408, 34193, 34955, 35718, 36511, 37364, 38135, 38938, 39795, 40699, 41585, 42518, 43379, 44386, 45257, 46091, 47033, 48040, 49036, 49980, 50921, 51797, 52888, 53866, 54849, 55794, 56706, 57542, 58390, 59357, 60472, 61529, 62550, 63498, 64469, 65288, 66333, 67376, 68472, 69561, 70626, 71642, 72775, 73890, 75062, 76271, 77472, 78586, 79722, 80776, 82066, 83198, 84372, 85619, 86752, 87882, 88935, 90020, 91149, 92290, 93379, 94503, 95542, 96318, 97497, 98678, 99773, 100842, 101782, 102685, 103569, 104555, 105526, 106490, 107416, 108334, 109150, 109856, 110586, 111266, 112161, 112998, 114031, 114610, 115197, 115914, 116616, 117306, 117956, 118534, 119014, 119502, 120010, 120527, 121090, 121641, 122111, 122607, 123097, 123611, 124315, 124985, 125562, 126121, 126611, 127059, 127571, 128121, 128668, 129188, 129635, 130070, 130519, 130993, 131578, 132162, 132726, 133227, 133738, 134218, 134699, 135223, 135715, 136200, 136696, 137139, 137621, 138122, 138648, 139188, 139700, 140182, 140573, 140958, 141360, 141772, 142185, 142628, 143019, 143355, 143709, 144096, 144451, 144789, 145136, 145477, 145810, 146111, 146444, 146756, 147092, 147343, 147622, 147901, 148153, 148439, 148738, 148994, 149218, 149435, 149649, 149850, 150114, 150336, 150570, 150570, 150999, 151160, 151327, 151529, 151727, 151918, 152093, 152274, 152419, 152556, 152718, 152869, 153032, 153184, 153339, 153470, 153587, 153724, 153847, 154010, 154147, 154274, 154392, 154486, 154596, 154703, 154823, 154918, 154996, 155080, 155158, 155252, 155360, 155447, 155550, 155642, 155732, 155813, 155913, 156014, 156111, 156212, 156302, 156385, 156463, 156567, 156705, 156825, 156938, 157051, 157157, 157248, 157346, 157435, 157548, 157656, 157756, 157853, 157930, 158063, 158189, 158306, 158446, 158607, 158725, 158856, 159044, 159216, 159370, 159558, 159755, 159967, 160166, 160441, 160692, 160949, 161240, 161552, 161843, 162114, 162468, 162927, 163396, 164110, 164623, 165101, 165547, 166177, 166862, 167642, 168436, 169275, 170179, 171058, 172085, 173123, 174308, 175649, 177150, 178769, 180530, 182553, 184657, 186920, 189544, 192311, 195123, 197894, 201187, 204832, 208330, 211853, 215542, 218959, 222408, 226188, 230168, 234083, 238270, 242347, 246116, 249992, 254197, 258317, 262317, 266207, 270284, 274390, 278719, 283248, 287122, 291331, 295525, 299266, 303720, 307231, 311388, 315235, 318895, 322512, 325972, 329100, 331895, 335102, 337989, 340702, 344082, 346759, 349186, 351309, 353528, 355705, 363079, 367081, 370384, 374305, 377031, 379573, 381903, 383490, 385137, 386708, 388135, 389302, 390660, 391981, 393310, 394493, 395751, 396730, 397637, 398454, 399459, 400312, 401050, 402005, 402728, 403281, 404211, 405028, 405939, 407145, 408040, 408764, 410784, 411406, 411989, 412531, 413091, 413609, 414108, 414482, 418480, 418987, 419470, 420016, 420551, 420967, 421382, 422022, 422662, 423217, 423810, 424351, 424773, 425195, 425757, 426290, 426754, 427371, 427862, 428309, 428682, 429179, 429669, 430254, 430732, 431225, 431642, 432079, 432519, 433049, 433589, 433964, 434367, 434756, 435110, 435758, 436365, 436861, 437370, 437830, 438210, 438560, 439020, 439529, 439895, 440225, 440533, 440752, 441042, 441411, 441749, 442009, 442317, 442655, 442874, 443213, 443497, 443928, 444248, 444529, 444838, 445133, 445385, 445768, 446050, 446368, 446658, 446918, 447194, 447373, 447751, 448062, 448339, 448573, 448817, 448997, 449260, 449538, 449856, 450127, 450375, 450589, 450782, 450963, 451189, 451435, 451814, 451980, 452124, 452290, 452454, 452651, 452811, 453042, 453708, 454269, 454712, 455068, 455653, 456386, 457191, 457740, 458186, 458437, 458880, 459191, 459652, 459873, 460265, 460791, 461057, 461389, 461849, 462189, 462690, 463245, 463530, 463655, 463852, 464153, 464623, 465082, 465349, 465662, 465911, 466147, 466584, 466980, 467468, 467933, 468554, 468790, 468980, 469247, 469724, 470115]}],\n                        {\"template\": {\"data\": {\"bar\": [{\"error_x\": {\"color\": \"#2a3f5f\"}, \"error_y\": {\"color\": \"#2a3f5f\"}, \"marker\": {\"line\": {\"color\": \"#E5ECF6\", \"width\": 0.5}}, \"type\": \"bar\"}], \"barpolar\": [{\"marker\": {\"line\": {\"color\": \"#E5ECF6\", \"width\": 0.5}}, \"type\": \"barpolar\"}], \"carpet\": [{\"aaxis\": {\"endlinecolor\": \"#2a3f5f\", \"gridcolor\": \"white\", \"linecolor\": \"white\", \"minorgridcolor\": \"white\", \"startlinecolor\": \"#2a3f5f\"}, \"baxis\": {\"endlinecolor\": \"#2a3f5f\", \"gridcolor\": \"white\", \"linecolor\": \"white\", \"minorgridcolor\": \"white\", \"startlinecolor\": \"#2a3f5f\"}, \"type\": \"carpet\"}], \"choropleth\": [{\"colorbar\": {\"outlinewidth\": 0, \"ticks\": \"\"}, \"type\": \"choropleth\"}], \"contour\": [{\"colorbar\": {\"outlinewidth\": 0, \"ticks\": \"\"}, \"colorscale\": [[0.0, \"#0d0887\"], [0.1111111111111111, \"#46039f\"], [0.2222222222222222, \"#7201a8\"], [0.3333333333333333, \"#9c179e\"], [0.4444444444444444, \"#bd3786\"], [0.5555555555555556, \"#d8576b\"], [0.6666666666666666, \"#ed7953\"], [0.7777777777777778, \"#fb9f3a\"], [0.8888888888888888, \"#fdca26\"], [1.0, \"#f0f921\"]], \"type\": \"contour\"}], \"contourcarpet\": [{\"colorbar\": {\"outlinewidth\": 0, \"ticks\": \"\"}, \"type\": \"contourcarpet\"}], \"heatmap\": [{\"colorbar\": {\"outlinewidth\": 0, \"ticks\": \"\"}, \"colorscale\": [[0.0, \"#0d0887\"], [0.1111111111111111, \"#46039f\"], [0.2222222222222222, \"#7201a8\"], [0.3333333333333333, \"#9c179e\"], [0.4444444444444444, \"#bd3786\"], [0.5555555555555556, \"#d8576b\"], [0.6666666666666666, \"#ed7953\"], [0.7777777777777778, \"#fb9f3a\"], [0.8888888888888888, \"#fdca26\"], [1.0, \"#f0f921\"]], \"type\": \"heatmap\"}], \"heatmapgl\": [{\"colorbar\": {\"outlinewidth\": 0, \"ticks\": \"\"}, \"colorscale\": [[0.0, \"#0d0887\"], [0.1111111111111111, \"#46039f\"], [0.2222222222222222, \"#7201a8\"], [0.3333333333333333, \"#9c179e\"], [0.4444444444444444, \"#bd3786\"], [0.5555555555555556, \"#d8576b\"], [0.6666666666666666, \"#ed7953\"], [0.7777777777777778, \"#fb9f3a\"], [0.8888888888888888, \"#fdca26\"], [1.0, \"#f0f921\"]], \"type\": \"heatmapgl\"}], \"histogram\": [{\"marker\": {\"colorbar\": {\"outlinewidth\": 0, \"ticks\": \"\"}}, \"type\": \"histogram\"}], \"histogram2d\": [{\"colorbar\": {\"outlinewidth\": 0, \"ticks\": \"\"}, \"colorscale\": [[0.0, \"#0d0887\"], [0.1111111111111111, \"#46039f\"], [0.2222222222222222, \"#7201a8\"], [0.3333333333333333, \"#9c179e\"], [0.4444444444444444, \"#bd3786\"], [0.5555555555555556, \"#d8576b\"], [0.6666666666666666, \"#ed7953\"], [0.7777777777777778, \"#fb9f3a\"], [0.8888888888888888, \"#fdca26\"], [1.0, \"#f0f921\"]], \"type\": \"histogram2d\"}], \"histogram2dcontour\": [{\"colorbar\": {\"outlinewidth\": 0, \"ticks\": \"\"}, \"colorscale\": [[0.0, \"#0d0887\"], [0.1111111111111111, \"#46039f\"], [0.2222222222222222, \"#7201a8\"], [0.3333333333333333, \"#9c179e\"], [0.4444444444444444, \"#bd3786\"], [0.5555555555555556, \"#d8576b\"], [0.6666666666666666, \"#ed7953\"], [0.7777777777777778, \"#fb9f3a\"], [0.8888888888888888, \"#fdca26\"], [1.0, \"#f0f921\"]], \"type\": \"histogram2dcontour\"}], \"mesh3d\": [{\"colorbar\": {\"outlinewidth\": 0, \"ticks\": \"\"}, \"type\": \"mesh3d\"}], \"parcoords\": [{\"line\": {\"colorbar\": {\"outlinewidth\": 0, \"ticks\": \"\"}}, \"type\": \"parcoords\"}], \"pie\": [{\"automargin\": true, \"type\": \"pie\"}], \"scatter\": [{\"marker\": {\"colorbar\": {\"outlinewidth\": 0, \"ticks\": \"\"}}, \"type\": \"scatter\"}], \"scatter3d\": [{\"line\": {\"colorbar\": {\"outlinewidth\": 0, \"ticks\": \"\"}}, \"marker\": {\"colorbar\": {\"outlinewidth\": 0, \"ticks\": \"\"}}, \"type\": \"scatter3d\"}], \"scattercarpet\": [{\"marker\": {\"colorbar\": {\"outlinewidth\": 0, \"ticks\": \"\"}}, \"type\": \"scattercarpet\"}], \"scattergeo\": [{\"marker\": {\"colorbar\": {\"outlinewidth\": 0, \"ticks\": \"\"}}, \"type\": \"scattergeo\"}], \"scattergl\": [{\"marker\": {\"colorbar\": {\"outlinewidth\": 0, \"ticks\": \"\"}}, \"type\": \"scattergl\"}], \"scattermapbox\": [{\"marker\": {\"colorbar\": {\"outlinewidth\": 0, \"ticks\": \"\"}}, \"type\": \"scattermapbox\"}], \"scatterpolar\": [{\"marker\": {\"colorbar\": {\"outlinewidth\": 0, \"ticks\": \"\"}}, \"type\": \"scatterpolar\"}], \"scatterpolargl\": [{\"marker\": {\"colorbar\": {\"outlinewidth\": 0, \"ticks\": \"\"}}, \"type\": \"scatterpolargl\"}], \"scatterternary\": [{\"marker\": {\"colorbar\": {\"outlinewidth\": 0, \"ticks\": \"\"}}, \"type\": \"scatterternary\"}], \"surface\": [{\"colorbar\": {\"outlinewidth\": 0, \"ticks\": \"\"}, \"colorscale\": [[0.0, \"#0d0887\"], [0.1111111111111111, \"#46039f\"], [0.2222222222222222, \"#7201a8\"], [0.3333333333333333, \"#9c179e\"], [0.4444444444444444, \"#bd3786\"], [0.5555555555555556, \"#d8576b\"], [0.6666666666666666, \"#ed7953\"], [0.7777777777777778, \"#fb9f3a\"], [0.8888888888888888, \"#fdca26\"], [1.0, \"#f0f921\"]], \"type\": \"surface\"}], \"table\": [{\"cells\": {\"fill\": {\"color\": \"#EBF0F8\"}, \"line\": {\"color\": \"white\"}}, \"header\": {\"fill\": {\"color\": \"#C8D4E3\"}, \"line\": {\"color\": \"white\"}}, \"type\": \"table\"}]}, \"layout\": {\"annotationdefaults\": {\"arrowcolor\": \"#2a3f5f\", \"arrowhead\": 0, \"arrowwidth\": 1}, \"coloraxis\": {\"colorbar\": {\"outlinewidth\": 0, \"ticks\": \"\"}}, \"colorscale\": {\"diverging\": [[0, \"#8e0152\"], [0.1, \"#c51b7d\"], [0.2, \"#de77ae\"], [0.3, \"#f1b6da\"], [0.4, \"#fde0ef\"], [0.5, \"#f7f7f7\"], [0.6, \"#e6f5d0\"], [0.7, \"#b8e186\"], [0.8, \"#7fbc41\"], [0.9, \"#4d9221\"], [1, \"#276419\"]], \"sequential\": [[0.0, \"#0d0887\"], [0.1111111111111111, \"#46039f\"], [0.2222222222222222, \"#7201a8\"], [0.3333333333333333, \"#9c179e\"], [0.4444444444444444, \"#bd3786\"], [0.5555555555555556, \"#d8576b\"], [0.6666666666666666, \"#ed7953\"], [0.7777777777777778, \"#fb9f3a\"], [0.8888888888888888, \"#fdca26\"], [1.0, \"#f0f921\"]], \"sequentialminus\": [[0.0, \"#0d0887\"], [0.1111111111111111, \"#46039f\"], [0.2222222222222222, \"#7201a8\"], [0.3333333333333333, \"#9c179e\"], [0.4444444444444444, \"#bd3786\"], [0.5555555555555556, \"#d8576b\"], [0.6666666666666666, \"#ed7953\"], [0.7777777777777778, \"#fb9f3a\"], [0.8888888888888888, \"#fdca26\"], [1.0, \"#f0f921\"]]}, \"colorway\": [\"#636efa\", \"#EF553B\", \"#00cc96\", \"#ab63fa\", \"#FFA15A\", \"#19d3f3\", \"#FF6692\", \"#B6E880\", \"#FF97FF\", \"#FECB52\"], \"font\": {\"color\": \"#2a3f5f\"}, \"geo\": {\"bgcolor\": \"white\", \"lakecolor\": \"white\", \"landcolor\": \"#E5ECF6\", \"showlakes\": true, \"showland\": true, \"subunitcolor\": \"white\"}, \"hoverlabel\": {\"align\": \"left\"}, \"hovermode\": \"closest\", \"mapbox\": {\"style\": \"light\"}, \"paper_bgcolor\": \"white\", \"plot_bgcolor\": \"#E5ECF6\", \"polar\": {\"angularaxis\": {\"gridcolor\": \"white\", \"linecolor\": \"white\", \"ticks\": \"\"}, \"bgcolor\": \"#E5ECF6\", \"radialaxis\": {\"gridcolor\": \"white\", \"linecolor\": \"white\", \"ticks\": \"\"}}, \"scene\": {\"xaxis\": {\"backgroundcolor\": \"#E5ECF6\", \"gridcolor\": \"white\", \"gridwidth\": 2, \"linecolor\": \"white\", \"showbackground\": true, \"ticks\": \"\", \"zerolinecolor\": \"white\"}, \"yaxis\": {\"backgroundcolor\": \"#E5ECF6\", \"gridcolor\": \"white\", \"gridwidth\": 2, \"linecolor\": \"white\", \"showbackground\": true, \"ticks\": \"\", \"zerolinecolor\": \"white\"}, \"zaxis\": {\"backgroundcolor\": \"#E5ECF6\", \"gridcolor\": \"white\", \"gridwidth\": 2, \"linecolor\": \"white\", \"showbackground\": true, \"ticks\": \"\", \"zerolinecolor\": \"white\"}}, \"shapedefaults\": {\"line\": {\"color\": \"#2a3f5f\"}}, \"ternary\": {\"aaxis\": {\"gridcolor\": \"white\", \"linecolor\": \"white\", \"ticks\": \"\"}, \"baxis\": {\"gridcolor\": \"white\", \"linecolor\": \"white\", \"ticks\": \"\"}, \"bgcolor\": \"#E5ECF6\", \"caxis\": {\"gridcolor\": \"white\", \"linecolor\": \"white\", \"ticks\": \"\"}}, \"title\": {\"x\": 0.05}, \"xaxis\": {\"automargin\": true, \"gridcolor\": \"white\", \"linecolor\": \"white\", \"ticks\": \"\", \"title\": {\"standoff\": 15}, \"zerolinecolor\": \"white\", \"zerolinewidth\": 2}, \"yaxis\": {\"automargin\": true, \"gridcolor\": \"white\", \"linecolor\": \"white\", \"ticks\": \"\", \"title\": {\"standoff\": 15}, \"zerolinecolor\": \"white\", \"zerolinewidth\": 2}}}},\n                        {\"responsive\": true}\n                    ).then(function(){\n                            \nvar gd = document.getElementById('bbd113c8-e7eb-4426-8062-2675404e798c');\nvar x = new MutationObserver(function (mutations, observer) {{\n        var display = window.getComputedStyle(gd).display;\n        if (!display || display === 'none') {{\n            console.log([gd, 'removed!']);\n            Plotly.purge(gd);\n            observer.disconnect();\n        }}\n}});\n\n// Listen for the removal of the full notebook cells\nvar notebookContainer = gd.closest('#notebook-container');\nif (notebookContainer) {{\n    x.observe(notebookContainer, {childList: true});\n}}\n\n// Listen for the clearing of the current output cell\nvar outputEl = gd.closest('.output');\nif (outputEl) {{\n    x.observe(outputEl, {childList: true});\n}}\n\n                        })\n                };\n                \n            </script>\n        </div>\n</body>\n</html>"
        },
        "metadata": {},
        "output_type": "display_data"
       }
      ]
     }
    },
    "1a978ed556704e0d8454d03eb44f03bd": {
     "model_module": "@jupyter-widgets/base",
     "model_module_version": "1.2.0",
     "model_name": "LayoutModel",
     "state": {
      "_model_module": "@jupyter-widgets/base",
      "_model_module_version": "1.2.0",
      "_model_name": "LayoutModel",
      "_view_count": null,
      "_view_module": "@jupyter-widgets/base",
      "_view_module_version": "1.2.0",
      "_view_name": "LayoutView",
      "align_content": null,
      "align_items": null,
      "align_self": null,
      "border": null,
      "bottom": null,
      "display": null,
      "flex": null,
      "flex_flow": null,
      "grid_area": null,
      "grid_auto_columns": null,
      "grid_auto_flow": null,
      "grid_auto_rows": null,
      "grid_column": null,
      "grid_gap": null,
      "grid_row": null,
      "grid_template_areas": null,
      "grid_template_columns": null,
      "grid_template_rows": null,
      "height": null,
      "justify_content": null,
      "justify_items": null,
      "left": null,
      "margin": null,
      "max_height": null,
      "max_width": null,
      "min_height": null,
      "min_width": null,
      "object_fit": null,
      "object_position": null,
      "order": null,
      "overflow": null,
      "overflow_x": null,
      "overflow_y": null,
      "padding": null,
      "right": null,
      "top": null,
      "visibility": null,
      "width": null
     }
    },
    "1b3f8a2040784e19abf1e98ad5c0d28d": {
     "model_module": "@jupyter-widgets/controls",
     "model_module_version": "1.5.0",
     "model_name": "IntSliderModel",
     "state": {
      "_dom_classes": [],
      "_model_module": "@jupyter-widgets/controls",
      "_model_module_version": "1.5.0",
      "_model_name": "IntSliderModel",
      "_view_count": null,
      "_view_module": "@jupyter-widgets/controls",
      "_view_module_version": "1.5.0",
      "_view_name": "IntSliderView",
      "continuous_update": true,
      "description": "n",
      "description_tooltip": null,
      "disabled": false,
      "layout": "IPY_MODEL_93928d3410ad4a8dbbcb74fa7fccc3fe",
      "max": 30,
      "min": -10,
      "orientation": "horizontal",
      "readout": true,
      "readout_format": "d",
      "step": 1,
      "style": "IPY_MODEL_6fd37123d1954c3491f3704599b866b9",
      "value": 15
     }
    },
    "226a5dc0b2f74b3c9f4f3499de45caed": {
     "model_module": "@jupyter-widgets/base",
     "model_module_version": "1.2.0",
     "model_name": "LayoutModel",
     "state": {
      "_model_module": "@jupyter-widgets/base",
      "_model_module_version": "1.2.0",
      "_model_name": "LayoutModel",
      "_view_count": null,
      "_view_module": "@jupyter-widgets/base",
      "_view_module_version": "1.2.0",
      "_view_name": "LayoutView",
      "align_content": null,
      "align_items": null,
      "align_self": null,
      "border": null,
      "bottom": null,
      "display": null,
      "flex": null,
      "flex_flow": null,
      "grid_area": null,
      "grid_auto_columns": null,
      "grid_auto_flow": null,
      "grid_auto_rows": null,
      "grid_column": null,
      "grid_gap": null,
      "grid_row": null,
      "grid_template_areas": null,
      "grid_template_columns": null,
      "grid_template_rows": null,
      "height": null,
      "justify_content": null,
      "justify_items": null,
      "left": null,
      "margin": null,
      "max_height": null,
      "max_width": null,
      "min_height": null,
      "min_width": null,
      "object_fit": null,
      "object_position": null,
      "order": null,
      "overflow": null,
      "overflow_x": null,
      "overflow_y": null,
      "padding": null,
      "right": null,
      "top": null,
      "visibility": null,
      "width": null
     }
    },
    "3ab30b99cbb445f78481afaab31bac4e": {
     "model_module": "@jupyter-widgets/base",
     "model_module_version": "1.2.0",
     "model_name": "LayoutModel",
     "state": {
      "_model_module": "@jupyter-widgets/base",
      "_model_module_version": "1.2.0",
      "_model_name": "LayoutModel",
      "_view_count": null,
      "_view_module": "@jupyter-widgets/base",
      "_view_module_version": "1.2.0",
      "_view_name": "LayoutView",
      "align_content": null,
      "align_items": null,
      "align_self": null,
      "border": "solid 2px green",
      "bottom": null,
      "display": "none",
      "flex": null,
      "flex_flow": null,
      "grid_area": null,
      "grid_auto_columns": null,
      "grid_auto_flow": null,
      "grid_auto_rows": null,
      "grid_column": null,
      "grid_gap": null,
      "grid_row": null,
      "grid_template_areas": null,
      "grid_template_columns": null,
      "grid_template_rows": null,
      "height": null,
      "justify_content": null,
      "justify_items": null,
      "left": null,
      "margin": null,
      "max_height": null,
      "max_width": null,
      "min_height": null,
      "min_width": null,
      "object_fit": null,
      "object_position": null,
      "order": null,
      "overflow": null,
      "overflow_x": null,
      "overflow_y": null,
      "padding": null,
      "right": null,
      "top": null,
      "visibility": null,
      "width": null
     }
    },
    "3afa2ca18fb144f090b59073a8d4a9f5": {
     "model_module": "@jupyter-widgets/controls",
     "model_module_version": "1.5.0",
     "model_name": "VBoxModel",
     "state": {
      "_dom_classes": [],
      "_model_module": "@jupyter-widgets/controls",
      "_model_module_version": "1.5.0",
      "_model_name": "VBoxModel",
      "_view_count": null,
      "_view_module": "@jupyter-widgets/controls",
      "_view_module_version": "1.5.0",
      "_view_name": "VBoxView",
      "box_style": "",
      "children": [
       "IPY_MODEL_d5bd09ab92f1469b901469a4dc8a7043"
      ],
      "layout": "IPY_MODEL_3ab30b99cbb445f78481afaab31bac4e"
     }
    },
    "472eec01a5a14124bd041ccc6f694cad": {
     "model_module": "@jupyter-widgets/controls",
     "model_module_version": "1.5.0",
     "model_name": "DescriptionStyleModel",
     "state": {
      "_model_module": "@jupyter-widgets/controls",
      "_model_module_version": "1.5.0",
      "_model_name": "DescriptionStyleModel",
      "_view_count": null,
      "_view_module": "@jupyter-widgets/base",
      "_view_module_version": "1.2.0",
      "_view_name": "StyleView",
      "description_width": ""
     }
    },
    "61531ef99d7b41ad8bffa432134efc53": {
     "model_module": "@jupyter-widgets/base",
     "model_module_version": "1.2.0",
     "model_name": "LayoutModel",
     "state": {
      "_model_module": "@jupyter-widgets/base",
      "_model_module_version": "1.2.0",
      "_model_name": "LayoutModel",
      "_view_count": null,
      "_view_module": "@jupyter-widgets/base",
      "_view_module_version": "1.2.0",
      "_view_name": "LayoutView",
      "align_content": null,
      "align_items": null,
      "align_self": null,
      "border": null,
      "bottom": null,
      "display": null,
      "flex": null,
      "flex_flow": null,
      "grid_area": null,
      "grid_auto_columns": null,
      "grid_auto_flow": null,
      "grid_auto_rows": null,
      "grid_column": null,
      "grid_gap": null,
      "grid_row": null,
      "grid_template_areas": null,
      "grid_template_columns": null,
      "grid_template_rows": null,
      "height": null,
      "justify_content": null,
      "justify_items": null,
      "left": null,
      "margin": null,
      "max_height": null,
      "max_width": null,
      "min_height": null,
      "min_width": null,
      "object_fit": null,
      "object_position": null,
      "order": null,
      "overflow": null,
      "overflow_x": null,
      "overflow_y": null,
      "padding": null,
      "right": null,
      "top": null,
      "visibility": null,
      "width": null
     }
    },
    "66854a07e40c4808808f1feeb0a833fd": {
     "model_module": "@jupyter-widgets/base",
     "model_module_version": "1.2.0",
     "model_name": "LayoutModel",
     "state": {
      "_model_module": "@jupyter-widgets/base",
      "_model_module_version": "1.2.0",
      "_model_name": "LayoutModel",
      "_view_count": null,
      "_view_module": "@jupyter-widgets/base",
      "_view_module_version": "1.2.0",
      "_view_name": "LayoutView",
      "align_content": null,
      "align_items": null,
      "align_self": null,
      "border": null,
      "bottom": null,
      "display": null,
      "flex": null,
      "flex_flow": null,
      "grid_area": null,
      "grid_auto_columns": null,
      "grid_auto_flow": null,
      "grid_auto_rows": null,
      "grid_column": null,
      "grid_gap": null,
      "grid_row": null,
      "grid_template_areas": null,
      "grid_template_columns": null,
      "grid_template_rows": null,
      "height": null,
      "justify_content": null,
      "justify_items": null,
      "left": null,
      "margin": null,
      "max_height": null,
      "max_width": null,
      "min_height": null,
      "min_width": null,
      "object_fit": null,
      "object_position": null,
      "order": null,
      "overflow": null,
      "overflow_x": null,
      "overflow_y": null,
      "padding": null,
      "right": null,
      "top": null,
      "visibility": null,
      "width": null
     }
    },
    "68f97d572a3148879c2a03da5fef9ff2": {
     "model_module": "@jupyter-widgets/controls",
     "model_module_version": "1.5.0",
     "model_name": "DescriptionStyleModel",
     "state": {
      "_model_module": "@jupyter-widgets/controls",
      "_model_module_version": "1.5.0",
      "_model_name": "DescriptionStyleModel",
      "_view_count": null,
      "_view_module": "@jupyter-widgets/base",
      "_view_module_version": "1.2.0",
      "_view_name": "StyleView",
      "description_width": ""
     }
    },
    "6fd37123d1954c3491f3704599b866b9": {
     "model_module": "@jupyter-widgets/controls",
     "model_module_version": "1.5.0",
     "model_name": "SliderStyleModel",
     "state": {
      "_model_module": "@jupyter-widgets/controls",
      "_model_module_version": "1.5.0",
      "_model_name": "SliderStyleModel",
      "_view_count": null,
      "_view_module": "@jupyter-widgets/base",
      "_view_module_version": "1.2.0",
      "_view_name": "StyleView",
      "description_width": "",
      "handle_color": null
     }
    },
    "6fffeeebbc244f3db15f4ad800d0b302": {
     "model_module": "@jupyter-widgets/controls",
     "model_module_version": "1.5.0",
     "model_name": "VBoxModel",
     "state": {
      "_dom_classes": [
       "widget-interact"
      ],
      "_model_module": "@jupyter-widgets/controls",
      "_model_module_version": "1.5.0",
      "_model_name": "VBoxModel",
      "_view_count": null,
      "_view_module": "@jupyter-widgets/controls",
      "_view_module_version": "1.5.0",
      "_view_name": "VBoxView",
      "box_style": "",
      "children": [
       "IPY_MODEL_1b3f8a2040784e19abf1e98ad5c0d28d",
       "IPY_MODEL_0ad9220e555245ada49e9e8e8a2b5b50"
      ],
      "layout": "IPY_MODEL_226a5dc0b2f74b3c9f4f3499de45caed"
     }
    },
    "798d9066cc8a43589d38d1f129da0907": {
     "model_module": "@jupyter-widgets/controls",
     "model_module_version": "1.5.0",
     "model_name": "VBoxModel",
     "state": {
      "_dom_classes": [
       "widget-interact"
      ],
      "_model_module": "@jupyter-widgets/controls",
      "_model_module_version": "1.5.0",
      "_model_name": "VBoxModel",
      "_view_count": null,
      "_view_module": "@jupyter-widgets/controls",
      "_view_module_version": "1.5.0",
      "_view_name": "VBoxView",
      "box_style": "",
      "children": [
       "IPY_MODEL_b80ac06b55214b45bebb8fe2688ca270",
       "IPY_MODEL_0ed8eea10ede46e4893ea774dc8000a4"
      ],
      "layout": "IPY_MODEL_66854a07e40c4808808f1feeb0a833fd"
     }
    },
    "92102fb63f544f1eb3578a10b2c777f9": {
     "model_module": "@jupyter-widgets/controls",
     "model_module_version": "1.5.0",
     "model_name": "VBoxModel",
     "state": {
      "_dom_classes": [
       "widget-interact"
      ],
      "_model_module": "@jupyter-widgets/controls",
      "_model_module_version": "1.5.0",
      "_model_name": "VBoxModel",
      "_view_count": null,
      "_view_module": "@jupyter-widgets/controls",
      "_view_module_version": "1.5.0",
      "_view_name": "VBoxView",
      "box_style": "",
      "children": [
       "IPY_MODEL_b61b8dee2973437eb9855fae58cf3ba7",
       "IPY_MODEL_92a77dbbc01c4417959b56831f0bb21a"
      ],
      "layout": "IPY_MODEL_eb224cbd3bd445249e66adf1abd2d199"
     }
    },
    "92a77dbbc01c4417959b56831f0bb21a": {
     "model_module": "@jupyter-widgets/output",
     "model_module_version": "1.0.0",
     "model_name": "OutputModel",
     "state": {
      "_dom_classes": [],
      "_model_module": "@jupyter-widgets/output",
      "_model_module_version": "1.0.0",
      "_model_name": "OutputModel",
      "_view_count": null,
      "_view_module": "@jupyter-widgets/output",
      "_view_module_version": "1.0.0",
      "_view_name": "OutputView",
      "layout": "IPY_MODEL_61531ef99d7b41ad8bffa432134efc53",
      "msg_id": "",
      "outputs": [
       {
        "data": {
         "text/html": "<style  type=\"text/css\" >\n#T_17c455e4_5484_11ec_9cf5_0242ac1c0002row0_col4,#T_17c455e4_5484_11ec_9cf5_0242ac1c0002row1_col4,#T_17c455e4_5484_11ec_9cf5_0242ac1c0002row2_col4,#T_17c455e4_5484_11ec_9cf5_0242ac1c0002row3_col4,#T_17c455e4_5484_11ec_9cf5_0242ac1c0002row4_col4,#T_17c455e4_5484_11ec_9cf5_0242ac1c0002row5_col4,#T_17c455e4_5484_11ec_9cf5_0242ac1c0002row6_col4,#T_17c455e4_5484_11ec_9cf5_0242ac1c0002row7_col4,#T_17c455e4_5484_11ec_9cf5_0242ac1c0002row8_col4,#T_17c455e4_5484_11ec_9cf5_0242ac1c0002row9_col4{\n            background-color:  grey;\n        }#T_17c455e4_5484_11ec_9cf5_0242ac1c0002row0_col5,#T_17c455e4_5484_11ec_9cf5_0242ac1c0002row1_col5,#T_17c455e4_5484_11ec_9cf5_0242ac1c0002row2_col5,#T_17c455e4_5484_11ec_9cf5_0242ac1c0002row3_col5,#T_17c455e4_5484_11ec_9cf5_0242ac1c0002row4_col5,#T_17c455e4_5484_11ec_9cf5_0242ac1c0002row5_col5,#T_17c455e4_5484_11ec_9cf5_0242ac1c0002row6_col5,#T_17c455e4_5484_11ec_9cf5_0242ac1c0002row7_col5,#T_17c455e4_5484_11ec_9cf5_0242ac1c0002row8_col5,#T_17c455e4_5484_11ec_9cf5_0242ac1c0002row9_col5{\n            background-color:  red;\n        }</style><table id=\"T_17c455e4_5484_11ec_9cf5_0242ac1c0002\" class=\"dataframe\"><thead>    <tr>        <th class=\"blank level0\" ></th>        <th class=\"col_heading level0 col0\" >country</th>        <th class=\"col_heading level0 col1\" >last_update</th>        <th class=\"col_heading level0 col2\" >lat</th>        <th class=\"col_heading level0 col3\" >long_</th>        <th class=\"col_heading level0 col4\" >confirmed</th>        <th class=\"col_heading level0 col5\" >deaths</th>        <th class=\"col_heading level0 col6\" >recovered</th>        <th class=\"col_heading level0 col7\" >active</th>        <th class=\"col_heading level0 col8\" >incident_rate</th>        <th class=\"col_heading level0 col9\" >people_tested</th>        <th class=\"col_heading level0 col10\" >people_hospitalized</th>        <th class=\"col_heading level0 col11\" >mortality_rate</th>        <th class=\"col_heading level0 col12\" >uid</th>        <th class=\"col_heading level0 col13\" >iso3</th>        <th class=\"col_heading level0 col14\" >cases_28_days</th>        <th class=\"col_heading level0 col15\" >deaths_28_days</th>    </tr></thead><tbody>\n                <tr>\n                        <th id=\"T_17c455e4_5484_11ec_9cf5_0242ac1c0002level0_row0\" class=\"row_heading level0 row0\" >182</th>\n                        <td id=\"T_17c455e4_5484_11ec_9cf5_0242ac1c0002row0_col0\" class=\"data row0 col0\" >US</td>\n                        <td id=\"T_17c455e4_5484_11ec_9cf5_0242ac1c0002row0_col1\" class=\"data row0 col1\" >2021-12-03 21:22:23</td>\n                        <td id=\"T_17c455e4_5484_11ec_9cf5_0242ac1c0002row0_col2\" class=\"data row0 col2\" >40.000000</td>\n                        <td id=\"T_17c455e4_5484_11ec_9cf5_0242ac1c0002row0_col3\" class=\"data row0 col3\" >-100.000000</td>\n                        <td id=\"T_17c455e4_5484_11ec_9cf5_0242ac1c0002row0_col4\" class=\"data row0 col4\" >48948587</td>\n                        <td id=\"T_17c455e4_5484_11ec_9cf5_0242ac1c0002row0_col5\" class=\"data row0 col5\" >787368</td>\n                        <td id=\"T_17c455e4_5484_11ec_9cf5_0242ac1c0002row0_col6\" class=\"data row0 col6\" >nan</td>\n                        <td id=\"T_17c455e4_5484_11ec_9cf5_0242ac1c0002row0_col7\" class=\"data row0 col7\" >nan</td>\n                        <td id=\"T_17c455e4_5484_11ec_9cf5_0242ac1c0002row0_col8\" class=\"data row0 col8\" >14856.933630</td>\n                        <td id=\"T_17c455e4_5484_11ec_9cf5_0242ac1c0002row0_col9\" class=\"data row0 col9\" >nan</td>\n                        <td id=\"T_17c455e4_5484_11ec_9cf5_0242ac1c0002row0_col10\" class=\"data row0 col10\" >nan</td>\n                        <td id=\"T_17c455e4_5484_11ec_9cf5_0242ac1c0002row0_col11\" class=\"data row0 col11\" >1.608561</td>\n                        <td id=\"T_17c455e4_5484_11ec_9cf5_0242ac1c0002row0_col12\" class=\"data row0 col12\" >840</td>\n                        <td id=\"T_17c455e4_5484_11ec_9cf5_0242ac1c0002row0_col13\" class=\"data row0 col13\" >USA</td>\n                        <td id=\"T_17c455e4_5484_11ec_9cf5_0242ac1c0002row0_col14\" class=\"data row0 col14\" >2471792</td>\n                        <td id=\"T_17c455e4_5484_11ec_9cf5_0242ac1c0002row0_col15\" class=\"data row0 col15\" >32997</td>\n            </tr>\n            <tr>\n                        <th id=\"T_17c455e4_5484_11ec_9cf5_0242ac1c0002level0_row1\" class=\"row_heading level0 row1\" >79</th>\n                        <td id=\"T_17c455e4_5484_11ec_9cf5_0242ac1c0002row1_col0\" class=\"data row1 col0\" >India</td>\n                        <td id=\"T_17c455e4_5484_11ec_9cf5_0242ac1c0002row1_col1\" class=\"data row1 col1\" >2021-12-03 21:22:23</td>\n                        <td id=\"T_17c455e4_5484_11ec_9cf5_0242ac1c0002row1_col2\" class=\"data row1 col2\" >20.593684</td>\n                        <td id=\"T_17c455e4_5484_11ec_9cf5_0242ac1c0002row1_col3\" class=\"data row1 col3\" >78.962880</td>\n                        <td id=\"T_17c455e4_5484_11ec_9cf5_0242ac1c0002row1_col4\" class=\"data row1 col4\" >34615757</td>\n                        <td id=\"T_17c455e4_5484_11ec_9cf5_0242ac1c0002row1_col5\" class=\"data row1 col5\" >470115</td>\n                        <td id=\"T_17c455e4_5484_11ec_9cf5_0242ac1c0002row1_col6\" class=\"data row1 col6\" >nan</td>\n                        <td id=\"T_17c455e4_5484_11ec_9cf5_0242ac1c0002row1_col7\" class=\"data row1 col7\" >nan</td>\n                        <td id=\"T_17c455e4_5484_11ec_9cf5_0242ac1c0002row1_col8\" class=\"data row1 col8\" >2508.380218</td>\n                        <td id=\"T_17c455e4_5484_11ec_9cf5_0242ac1c0002row1_col9\" class=\"data row1 col9\" >nan</td>\n                        <td id=\"T_17c455e4_5484_11ec_9cf5_0242ac1c0002row1_col10\" class=\"data row1 col10\" >nan</td>\n                        <td id=\"T_17c455e4_5484_11ec_9cf5_0242ac1c0002row1_col11\" class=\"data row1 col11\" >1.358095</td>\n                        <td id=\"T_17c455e4_5484_11ec_9cf5_0242ac1c0002row1_col12\" class=\"data row1 col12\" >356</td>\n                        <td id=\"T_17c455e4_5484_11ec_9cf5_0242ac1c0002row1_col13\" class=\"data row1 col13\" >IND</td>\n                        <td id=\"T_17c455e4_5484_11ec_9cf5_0242ac1c0002row1_col14\" class=\"data row1 col14\" >282003</td>\n                        <td id=\"T_17c455e4_5484_11ec_9cf5_0242ac1c0002row1_col15\" class=\"data row1 col15\" >10242</td>\n            </tr>\n            <tr>\n                        <th id=\"T_17c455e4_5484_11ec_9cf5_0242ac1c0002level0_row2\" class=\"row_heading level0 row2\" >23</th>\n                        <td id=\"T_17c455e4_5484_11ec_9cf5_0242ac1c0002row2_col0\" class=\"data row2 col0\" >Brazil</td>\n                        <td id=\"T_17c455e4_5484_11ec_9cf5_0242ac1c0002row2_col1\" class=\"data row2 col1\" >2021-12-03 21:22:23</td>\n                        <td id=\"T_17c455e4_5484_11ec_9cf5_0242ac1c0002row2_col2\" class=\"data row2 col2\" >-14.235000</td>\n                        <td id=\"T_17c455e4_5484_11ec_9cf5_0242ac1c0002row2_col3\" class=\"data row2 col3\" >-51.925300</td>\n                        <td id=\"T_17c455e4_5484_11ec_9cf5_0242ac1c0002row2_col4\" class=\"data row2 col4\" >22118782</td>\n                        <td id=\"T_17c455e4_5484_11ec_9cf5_0242ac1c0002row2_col5\" class=\"data row2 col5\" >615179</td>\n                        <td id=\"T_17c455e4_5484_11ec_9cf5_0242ac1c0002row2_col6\" class=\"data row2 col6\" >nan</td>\n                        <td id=\"T_17c455e4_5484_11ec_9cf5_0242ac1c0002row2_col7\" class=\"data row2 col7\" >nan</td>\n                        <td id=\"T_17c455e4_5484_11ec_9cf5_0242ac1c0002row2_col8\" class=\"data row2 col8\" >10405.929384</td>\n                        <td id=\"T_17c455e4_5484_11ec_9cf5_0242ac1c0002row2_col9\" class=\"data row2 col9\" >nan</td>\n                        <td id=\"T_17c455e4_5484_11ec_9cf5_0242ac1c0002row2_col10\" class=\"data row2 col10\" >nan</td>\n                        <td id=\"T_17c455e4_5484_11ec_9cf5_0242ac1c0002row2_col11\" class=\"data row2 col11\" >2.781252</td>\n                        <td id=\"T_17c455e4_5484_11ec_9cf5_0242ac1c0002row2_col12\" class=\"data row2 col12\" >76</td>\n                        <td id=\"T_17c455e4_5484_11ec_9cf5_0242ac1c0002row2_col13\" class=\"data row2 col13\" >BRA</td>\n                        <td id=\"T_17c455e4_5484_11ec_9cf5_0242ac1c0002row2_col14\" class=\"data row2 col14\" >269645</td>\n                        <td id=\"T_17c455e4_5484_11ec_9cf5_0242ac1c0002row2_col15\" class=\"data row2 col15\" >6508</td>\n            </tr>\n            <tr>\n                        <th id=\"T_17c455e4_5484_11ec_9cf5_0242ac1c0002level0_row3\" class=\"row_heading level0 row3\" >186</th>\n                        <td id=\"T_17c455e4_5484_11ec_9cf5_0242ac1c0002row3_col0\" class=\"data row3 col0\" >United Kingdom</td>\n                        <td id=\"T_17c455e4_5484_11ec_9cf5_0242ac1c0002row3_col1\" class=\"data row3 col1\" >2021-12-03 21:22:23</td>\n                        <td id=\"T_17c455e4_5484_11ec_9cf5_0242ac1c0002row3_col2\" class=\"data row3 col2\" >55.000000</td>\n                        <td id=\"T_17c455e4_5484_11ec_9cf5_0242ac1c0002row3_col3\" class=\"data row3 col3\" >-3.000000</td>\n                        <td id=\"T_17c455e4_5484_11ec_9cf5_0242ac1c0002row3_col4\" class=\"data row3 col4\" >10438059</td>\n                        <td id=\"T_17c455e4_5484_11ec_9cf5_0242ac1c0002row3_col5\" class=\"data row3 col5\" >145874</td>\n                        <td id=\"T_17c455e4_5484_11ec_9cf5_0242ac1c0002row3_col6\" class=\"data row3 col6\" >nan</td>\n                        <td id=\"T_17c455e4_5484_11ec_9cf5_0242ac1c0002row3_col7\" class=\"data row3 col7\" >nan</td>\n                        <td id=\"T_17c455e4_5484_11ec_9cf5_0242ac1c0002row3_col8\" class=\"data row3 col8\" >15375.863042</td>\n                        <td id=\"T_17c455e4_5484_11ec_9cf5_0242ac1c0002row3_col9\" class=\"data row3 col9\" >nan</td>\n                        <td id=\"T_17c455e4_5484_11ec_9cf5_0242ac1c0002row3_col10\" class=\"data row3 col10\" >nan</td>\n                        <td id=\"T_17c455e4_5484_11ec_9cf5_0242ac1c0002row3_col11\" class=\"data row3 col11\" >1.397520</td>\n                        <td id=\"T_17c455e4_5484_11ec_9cf5_0242ac1c0002row3_col12\" class=\"data row3 col12\" >826</td>\n                        <td id=\"T_17c455e4_5484_11ec_9cf5_0242ac1c0002row3_col13\" class=\"data row3 col13\" >GBR</td>\n                        <td id=\"T_17c455e4_5484_11ec_9cf5_0242ac1c0002row3_col14\" class=\"data row3 col14\" >1134554</td>\n                        <td id=\"T_17c455e4_5484_11ec_9cf5_0242ac1c0002row3_col15\" class=\"data row3 col15\" >3902</td>\n            </tr>\n            <tr>\n                        <th id=\"T_17c455e4_5484_11ec_9cf5_0242ac1c0002level0_row4\" class=\"row_heading level0 row4\" >144</th>\n                        <td id=\"T_17c455e4_5484_11ec_9cf5_0242ac1c0002row4_col0\" class=\"data row4 col0\" >Russia</td>\n                        <td id=\"T_17c455e4_5484_11ec_9cf5_0242ac1c0002row4_col1\" class=\"data row4 col1\" >2021-12-03 21:22:23</td>\n                        <td id=\"T_17c455e4_5484_11ec_9cf5_0242ac1c0002row4_col2\" class=\"data row4 col2\" >61.524000</td>\n                        <td id=\"T_17c455e4_5484_11ec_9cf5_0242ac1c0002row4_col3\" class=\"data row4 col3\" >105.318800</td>\n                        <td id=\"T_17c455e4_5484_11ec_9cf5_0242ac1c0002row4_col4\" class=\"data row4 col4\" >9565909</td>\n                        <td id=\"T_17c455e4_5484_11ec_9cf5_0242ac1c0002row4_col5\" class=\"data row4 col5\" >273463</td>\n                        <td id=\"T_17c455e4_5484_11ec_9cf5_0242ac1c0002row4_col6\" class=\"data row4 col6\" >nan</td>\n                        <td id=\"T_17c455e4_5484_11ec_9cf5_0242ac1c0002row4_col7\" class=\"data row4 col7\" >nan</td>\n                        <td id=\"T_17c455e4_5484_11ec_9cf5_0242ac1c0002row4_col8\" class=\"data row4 col8\" >6554.935003</td>\n                        <td id=\"T_17c455e4_5484_11ec_9cf5_0242ac1c0002row4_col9\" class=\"data row4 col9\" >nan</td>\n                        <td id=\"T_17c455e4_5484_11ec_9cf5_0242ac1c0002row4_col10\" class=\"data row4 col10\" >nan</td>\n                        <td id=\"T_17c455e4_5484_11ec_9cf5_0242ac1c0002row4_col11\" class=\"data row4 col11\" >2.858725</td>\n                        <td id=\"T_17c455e4_5484_11ec_9cf5_0242ac1c0002row4_col12\" class=\"data row4 col12\" >643</td>\n                        <td id=\"T_17c455e4_5484_11ec_9cf5_0242ac1c0002row4_col13\" class=\"data row4 col13\" >RUS</td>\n                        <td id=\"T_17c455e4_5484_11ec_9cf5_0242ac1c0002row4_col14\" class=\"data row4 col14\" >999887</td>\n                        <td id=\"T_17c455e4_5484_11ec_9cf5_0242ac1c0002row4_col15\" class=\"data row4 col15\" >33495</td>\n            </tr>\n            <tr>\n                        <th id=\"T_17c455e4_5484_11ec_9cf5_0242ac1c0002level0_row5\" class=\"row_heading level0 row5\" >181</th>\n                        <td id=\"T_17c455e4_5484_11ec_9cf5_0242ac1c0002row5_col0\" class=\"data row5 col0\" >Turkey</td>\n                        <td id=\"T_17c455e4_5484_11ec_9cf5_0242ac1c0002row5_col1\" class=\"data row5 col1\" >2021-12-03 21:22:23</td>\n                        <td id=\"T_17c455e4_5484_11ec_9cf5_0242ac1c0002row5_col2\" class=\"data row5 col2\" >38.963700</td>\n                        <td id=\"T_17c455e4_5484_11ec_9cf5_0242ac1c0002row5_col3\" class=\"data row5 col3\" >35.243300</td>\n                        <td id=\"T_17c455e4_5484_11ec_9cf5_0242ac1c0002row5_col4\" class=\"data row5 col4\" >8841861</td>\n                        <td id=\"T_17c455e4_5484_11ec_9cf5_0242ac1c0002row5_col5\" class=\"data row5 col5\" >77230</td>\n                        <td id=\"T_17c455e4_5484_11ec_9cf5_0242ac1c0002row5_col6\" class=\"data row5 col6\" >nan</td>\n                        <td id=\"T_17c455e4_5484_11ec_9cf5_0242ac1c0002row5_col7\" class=\"data row5 col7\" >nan</td>\n                        <td id=\"T_17c455e4_5484_11ec_9cf5_0242ac1c0002row5_col8\" class=\"data row5 col8\" >10483.707390</td>\n                        <td id=\"T_17c455e4_5484_11ec_9cf5_0242ac1c0002row5_col9\" class=\"data row5 col9\" >nan</td>\n                        <td id=\"T_17c455e4_5484_11ec_9cf5_0242ac1c0002row5_col10\" class=\"data row5 col10\" >nan</td>\n                        <td id=\"T_17c455e4_5484_11ec_9cf5_0242ac1c0002row5_col11\" class=\"data row5 col11\" >0.873459</td>\n                        <td id=\"T_17c455e4_5484_11ec_9cf5_0242ac1c0002row5_col12\" class=\"data row5 col12\" >792</td>\n                        <td id=\"T_17c455e4_5484_11ec_9cf5_0242ac1c0002row5_col13\" class=\"data row5 col13\" >TUR</td>\n                        <td id=\"T_17c455e4_5484_11ec_9cf5_0242ac1c0002row5_col14\" class=\"data row5 col14\" >691183</td>\n                        <td id=\"T_17c455e4_5484_11ec_9cf5_0242ac1c0002row5_col15\" class=\"data row5 col15\" >5704</td>\n            </tr>\n            <tr>\n                        <th id=\"T_17c455e4_5484_11ec_9cf5_0242ac1c0002level0_row6\" class=\"row_heading level0 row6\" >62</th>\n                        <td id=\"T_17c455e4_5484_11ec_9cf5_0242ac1c0002row6_col0\" class=\"data row6 col0\" >France</td>\n                        <td id=\"T_17c455e4_5484_11ec_9cf5_0242ac1c0002row6_col1\" class=\"data row6 col1\" >2021-12-03 21:22:23</td>\n                        <td id=\"T_17c455e4_5484_11ec_9cf5_0242ac1c0002row6_col2\" class=\"data row6 col2\" >46.227600</td>\n                        <td id=\"T_17c455e4_5484_11ec_9cf5_0242ac1c0002row6_col3\" class=\"data row6 col3\" >2.213700</td>\n                        <td id=\"T_17c455e4_5484_11ec_9cf5_0242ac1c0002row6_col4\" class=\"data row6 col4\" >7927361</td>\n                        <td id=\"T_17c455e4_5484_11ec_9cf5_0242ac1c0002row6_col5\" class=\"data row6 col5\" >120440</td>\n                        <td id=\"T_17c455e4_5484_11ec_9cf5_0242ac1c0002row6_col6\" class=\"data row6 col6\" >nan</td>\n                        <td id=\"T_17c455e4_5484_11ec_9cf5_0242ac1c0002row6_col7\" class=\"data row6 col7\" >nan</td>\n                        <td id=\"T_17c455e4_5484_11ec_9cf5_0242ac1c0002row6_col8\" class=\"data row6 col8\" >12149.241493</td>\n                        <td id=\"T_17c455e4_5484_11ec_9cf5_0242ac1c0002row6_col9\" class=\"data row6 col9\" >nan</td>\n                        <td id=\"T_17c455e4_5484_11ec_9cf5_0242ac1c0002row6_col10\" class=\"data row6 col10\" >nan</td>\n                        <td id=\"T_17c455e4_5484_11ec_9cf5_0242ac1c0002row6_col11\" class=\"data row6 col11\" >1.519295</td>\n                        <td id=\"T_17c455e4_5484_11ec_9cf5_0242ac1c0002row6_col12\" class=\"data row6 col12\" >250</td>\n                        <td id=\"T_17c455e4_5484_11ec_9cf5_0242ac1c0002row6_col13\" class=\"data row6 col13\" >FRA</td>\n                        <td id=\"T_17c455e4_5484_11ec_9cf5_0242ac1c0002row6_col14\" class=\"data row6 col14\" >585270</td>\n                        <td id=\"T_17c455e4_5484_11ec_9cf5_0242ac1c0002row6_col15\" class=\"data row6 col15\" >1507</td>\n            </tr>\n            <tr>\n                        <th id=\"T_17c455e4_5484_11ec_9cf5_0242ac1c0002level0_row7\" class=\"row_heading level0 row7\" >81</th>\n                        <td id=\"T_17c455e4_5484_11ec_9cf5_0242ac1c0002row7_col0\" class=\"data row7 col0\" >Iran</td>\n                        <td id=\"T_17c455e4_5484_11ec_9cf5_0242ac1c0002row7_col1\" class=\"data row7 col1\" >2021-12-03 21:22:23</td>\n                        <td id=\"T_17c455e4_5484_11ec_9cf5_0242ac1c0002row7_col2\" class=\"data row7 col2\" >32.427908</td>\n                        <td id=\"T_17c455e4_5484_11ec_9cf5_0242ac1c0002row7_col3\" class=\"data row7 col3\" >53.688046</td>\n                        <td id=\"T_17c455e4_5484_11ec_9cf5_0242ac1c0002row7_col4\" class=\"data row7 col4\" >6129199</td>\n                        <td id=\"T_17c455e4_5484_11ec_9cf5_0242ac1c0002row7_col5\" class=\"data row7 col5\" >130066</td>\n                        <td id=\"T_17c455e4_5484_11ec_9cf5_0242ac1c0002row7_col6\" class=\"data row7 col6\" >nan</td>\n                        <td id=\"T_17c455e4_5484_11ec_9cf5_0242ac1c0002row7_col7\" class=\"data row7 col7\" >nan</td>\n                        <td id=\"T_17c455e4_5484_11ec_9cf5_0242ac1c0002row7_col8\" class=\"data row7 col8\" >7297.277666</td>\n                        <td id=\"T_17c455e4_5484_11ec_9cf5_0242ac1c0002row7_col9\" class=\"data row7 col9\" >nan</td>\n                        <td id=\"T_17c455e4_5484_11ec_9cf5_0242ac1c0002row7_col10\" class=\"data row7 col10\" >nan</td>\n                        <td id=\"T_17c455e4_5484_11ec_9cf5_0242ac1c0002row7_col11\" class=\"data row7 col11\" >2.122072</td>\n                        <td id=\"T_17c455e4_5484_11ec_9cf5_0242ac1c0002row7_col12\" class=\"data row7 col12\" >364</td>\n                        <td id=\"T_17c455e4_5484_11ec_9cf5_0242ac1c0002row7_col13\" class=\"data row7 col13\" >IRN</td>\n                        <td id=\"T_17c455e4_5484_11ec_9cf5_0242ac1c0002row7_col14\" class=\"data row7 col14\" >160772</td>\n                        <td id=\"T_17c455e4_5484_11ec_9cf5_0242ac1c0002row7_col15\" class=\"data row7 col15\" >3067</td>\n            </tr>\n            <tr>\n                        <th id=\"T_17c455e4_5484_11ec_9cf5_0242ac1c0002level0_row8\" class=\"row_heading level0 row8\" >66</th>\n                        <td id=\"T_17c455e4_5484_11ec_9cf5_0242ac1c0002row8_col0\" class=\"data row8 col0\" >Germany</td>\n                        <td id=\"T_17c455e4_5484_11ec_9cf5_0242ac1c0002row8_col1\" class=\"data row8 col1\" >2021-12-03 21:22:23</td>\n                        <td id=\"T_17c455e4_5484_11ec_9cf5_0242ac1c0002row8_col2\" class=\"data row8 col2\" >51.165691</td>\n                        <td id=\"T_17c455e4_5484_11ec_9cf5_0242ac1c0002row8_col3\" class=\"data row8 col3\" >10.451526</td>\n                        <td id=\"T_17c455e4_5484_11ec_9cf5_0242ac1c0002row8_col4\" class=\"data row8 col4\" >6097687</td>\n                        <td id=\"T_17c455e4_5484_11ec_9cf5_0242ac1c0002row8_col5\" class=\"data row8 col5\" >102720</td>\n                        <td id=\"T_17c455e4_5484_11ec_9cf5_0242ac1c0002row8_col6\" class=\"data row8 col6\" >nan</td>\n                        <td id=\"T_17c455e4_5484_11ec_9cf5_0242ac1c0002row8_col7\" class=\"data row8 col7\" >nan</td>\n                        <td id=\"T_17c455e4_5484_11ec_9cf5_0242ac1c0002row8_col8\" class=\"data row8 col8\" >7332.914108</td>\n                        <td id=\"T_17c455e4_5484_11ec_9cf5_0242ac1c0002row8_col9\" class=\"data row8 col9\" >nan</td>\n                        <td id=\"T_17c455e4_5484_11ec_9cf5_0242ac1c0002row8_col10\" class=\"data row8 col10\" >nan</td>\n                        <td id=\"T_17c455e4_5484_11ec_9cf5_0242ac1c0002row8_col11\" class=\"data row8 col11\" >1.684573</td>\n                        <td id=\"T_17c455e4_5484_11ec_9cf5_0242ac1c0002row8_col12\" class=\"data row8 col12\" >276</td>\n                        <td id=\"T_17c455e4_5484_11ec_9cf5_0242ac1c0002row8_col13\" class=\"data row8 col13\" >DEU</td>\n                        <td id=\"T_17c455e4_5484_11ec_9cf5_0242ac1c0002row8_col14\" class=\"data row8 col14\" >1350197</td>\n                        <td id=\"T_17c455e4_5484_11ec_9cf5_0242ac1c0002row8_col15\" class=\"data row8 col15\" >6222</td>\n            </tr>\n            <tr>\n                        <th id=\"T_17c455e4_5484_11ec_9cf5_0242ac1c0002level0_row9\" class=\"row_heading level0 row9\" >6</th>\n                        <td id=\"T_17c455e4_5484_11ec_9cf5_0242ac1c0002row9_col0\" class=\"data row9 col0\" >Argentina</td>\n                        <td id=\"T_17c455e4_5484_11ec_9cf5_0242ac1c0002row9_col1\" class=\"data row9 col1\" >2021-12-03 21:22:23</td>\n                        <td id=\"T_17c455e4_5484_11ec_9cf5_0242ac1c0002row9_col2\" class=\"data row9 col2\" >-38.416100</td>\n                        <td id=\"T_17c455e4_5484_11ec_9cf5_0242ac1c0002row9_col3\" class=\"data row9 col3\" >-63.616700</td>\n                        <td id=\"T_17c455e4_5484_11ec_9cf5_0242ac1c0002row9_col4\" class=\"data row9 col4\" >5335310</td>\n                        <td id=\"T_17c455e4_5484_11ec_9cf5_0242ac1c0002row9_col5\" class=\"data row9 col5\" >116617</td>\n                        <td id=\"T_17c455e4_5484_11ec_9cf5_0242ac1c0002row9_col6\" class=\"data row9 col6\" >nan</td>\n                        <td id=\"T_17c455e4_5484_11ec_9cf5_0242ac1c0002row9_col7\" class=\"data row9 col7\" >nan</td>\n                        <td id=\"T_17c455e4_5484_11ec_9cf5_0242ac1c0002row9_col8\" class=\"data row9 col8\" >11804.886107</td>\n                        <td id=\"T_17c455e4_5484_11ec_9cf5_0242ac1c0002row9_col9\" class=\"data row9 col9\" >nan</td>\n                        <td id=\"T_17c455e4_5484_11ec_9cf5_0242ac1c0002row9_col10\" class=\"data row9 col10\" >nan</td>\n                        <td id=\"T_17c455e4_5484_11ec_9cf5_0242ac1c0002row9_col11\" class=\"data row9 col11\" >2.185759</td>\n                        <td id=\"T_17c455e4_5484_11ec_9cf5_0242ac1c0002row9_col12\" class=\"data row9 col12\" >32</td>\n                        <td id=\"T_17c455e4_5484_11ec_9cf5_0242ac1c0002row9_col13\" class=\"data row9 col13\" >ARG</td>\n                        <td id=\"T_17c455e4_5484_11ec_9cf5_0242ac1c0002row9_col14\" class=\"data row9 col14\" >41321</td>\n                        <td id=\"T_17c455e4_5484_11ec_9cf5_0242ac1c0002row9_col15\" class=\"data row9 col15\" >562</td>\n            </tr>\n    </tbody></table>",
         "text/plain": "<pandas.io.formats.style.Styler at 0x7f6f4c365150>"
        },
        "metadata": {},
        "output_type": "display_data"
       }
      ]
     }
    },
    "93928d3410ad4a8dbbcb74fa7fccc3fe": {
     "model_module": "@jupyter-widgets/base",
     "model_module_version": "1.2.0",
     "model_name": "LayoutModel",
     "state": {
      "_model_module": "@jupyter-widgets/base",
      "_model_module_version": "1.2.0",
      "_model_name": "LayoutModel",
      "_view_count": null,
      "_view_module": "@jupyter-widgets/base",
      "_view_module_version": "1.2.0",
      "_view_name": "LayoutView",
      "align_content": null,
      "align_items": null,
      "align_self": null,
      "border": null,
      "bottom": null,
      "display": null,
      "flex": null,
      "flex_flow": null,
      "grid_area": null,
      "grid_auto_columns": null,
      "grid_auto_flow": null,
      "grid_auto_rows": null,
      "grid_column": null,
      "grid_gap": null,
      "grid_row": null,
      "grid_template_areas": null,
      "grid_template_columns": null,
      "grid_template_rows": null,
      "height": null,
      "justify_content": null,
      "justify_items": null,
      "left": null,
      "margin": null,
      "max_height": null,
      "max_width": null,
      "min_height": null,
      "min_width": null,
      "object_fit": null,
      "object_position": null,
      "order": null,
      "overflow": null,
      "overflow_x": null,
      "overflow_y": null,
      "padding": null,
      "right": null,
      "top": null,
      "visibility": null,
      "width": null
     }
    },
    "948291e780334f1fb16492d62e52d52c": {
     "model_module": "@jupyter-widgets/controls",
     "model_module_version": "1.5.0",
     "model_name": "VBoxModel",
     "state": {
      "_dom_classes": [],
      "_model_module": "@jupyter-widgets/controls",
      "_model_module_version": "1.5.0",
      "_model_name": "VBoxModel",
      "_view_count": null,
      "_view_module": "@jupyter-widgets/controls",
      "_view_module_version": "1.5.0",
      "_view_name": "VBoxView",
      "box_style": "",
      "children": [
       "IPY_MODEL_d5bd09ab92f1469b901469a4dc8a7043"
      ],
      "layout": "IPY_MODEL_065a33c48e3f4bcea28473855d797d4b"
     }
    },
    "b61b8dee2973437eb9855fae58cf3ba7": {
     "model_module": "@jupyter-widgets/controls",
     "model_module_version": "1.5.0",
     "model_name": "TextModel",
     "state": {
      "_dom_classes": [],
      "_model_module": "@jupyter-widgets/controls",
      "_model_module_version": "1.5.0",
      "_model_name": "TextModel",
      "_view_count": null,
      "_view_module": "@jupyter-widgets/controls",
      "_view_module_version": "1.5.0",
      "_view_name": "TextView",
      "continuous_update": true,
      "description": "n",
      "description_tooltip": null,
      "disabled": false,
      "layout": "IPY_MODEL_d6895247c9ae453f9d55d8e0d1e7d280",
      "placeholder": "​",
      "style": "IPY_MODEL_472eec01a5a14124bd041ccc6f694cad",
      "value": "10"
     }
    },
    "b80ac06b55214b45bebb8fe2688ca270": {
     "model_module": "@jupyter-widgets/controls",
     "model_module_version": "1.5.0",
     "model_name": "TextModel",
     "state": {
      "_dom_classes": [],
      "_model_module": "@jupyter-widgets/controls",
      "_model_module_version": "1.5.0",
      "_model_name": "TextModel",
      "_view_count": null,
      "_view_module": "@jupyter-widgets/controls",
      "_view_module_version": "1.5.0",
      "_view_name": "TextView",
      "continuous_update": true,
      "description": "country",
      "description_tooltip": null,
      "disabled": false,
      "layout": "IPY_MODEL_1a978ed556704e0d8454d03eb44f03bd",
      "placeholder": "​",
      "style": "IPY_MODEL_68f97d572a3148879c2a03da5fef9ff2",
      "value": "India"
     }
    },
    "d4196d25d0444fa2b6f1900b4eff4c2e": {
     "model_module": "@jupyter-widgets/base",
     "model_module_version": "1.2.0",
     "model_name": "LayoutModel",
     "state": {
      "_model_module": "@jupyter-widgets/base",
      "_model_module_version": "1.2.0",
      "_model_name": "LayoutModel",
      "_view_count": null,
      "_view_module": "@jupyter-widgets/base",
      "_view_module_version": "1.2.0",
      "_view_name": "LayoutView",
      "align_content": null,
      "align_items": null,
      "align_self": null,
      "border": null,
      "bottom": null,
      "display": null,
      "flex": null,
      "flex_flow": null,
      "grid_area": null,
      "grid_auto_columns": null,
      "grid_auto_flow": null,
      "grid_auto_rows": null,
      "grid_column": null,
      "grid_gap": null,
      "grid_row": null,
      "grid_template_areas": null,
      "grid_template_columns": null,
      "grid_template_rows": null,
      "height": null,
      "justify_content": null,
      "justify_items": null,
      "left": null,
      "margin": null,
      "max_height": null,
      "max_width": null,
      "min_height": null,
      "min_width": null,
      "object_fit": null,
      "object_position": null,
      "order": null,
      "overflow": null,
      "overflow_x": null,
      "overflow_y": null,
      "padding": null,
      "right": null,
      "top": null,
      "visibility": null,
      "width": null
     }
    },
    "d5bd09ab92f1469b901469a4dc8a7043": {
     "model_module": "plotlywidget",
     "model_module_version": "^1.4.0",
     "model_name": "FigureModel",
     "state": {
      "_config": {
       "plotlyServerURL": "https://plot.ly"
      },
      "_data": [],
      "_dom_classes": [],
      "_js2py_layoutDelta": {},
      "_js2py_pointsCallback": {},
      "_js2py_relayout": {},
      "_js2py_restyle": {},
      "_js2py_traceDeltas": {},
      "_js2py_update": {},
      "_last_layout_edit_id": 0,
      "_last_trace_edit_id": 0,
      "_layout": {},
      "_model_module": "plotlywidget",
      "_model_module_version": "^1.4.0",
      "_model_name": "FigureModel",
      "_py2js_addTraces": {},
      "_py2js_animate": {},
      "_py2js_deleteTraces": {},
      "_py2js_moveTraces": {},
      "_py2js_relayout": null,
      "_py2js_removeLayoutProps": {},
      "_py2js_removeTraceProps": {},
      "_py2js_restyle": {},
      "_py2js_update": {},
      "_view_count": 3,
      "_view_module": "plotlywidget",
      "_view_module_version": "^1.4.0",
      "_view_name": "FigureView"
     }
    },
    "d6895247c9ae453f9d55d8e0d1e7d280": {
     "model_module": "@jupyter-widgets/base",
     "model_module_version": "1.2.0",
     "model_name": "LayoutModel",
     "state": {
      "_model_module": "@jupyter-widgets/base",
      "_model_module_version": "1.2.0",
      "_model_name": "LayoutModel",
      "_view_count": null,
      "_view_module": "@jupyter-widgets/base",
      "_view_module_version": "1.2.0",
      "_view_name": "LayoutView",
      "align_content": null,
      "align_items": null,
      "align_self": null,
      "border": null,
      "bottom": null,
      "display": null,
      "flex": null,
      "flex_flow": null,
      "grid_area": null,
      "grid_auto_columns": null,
      "grid_auto_flow": null,
      "grid_auto_rows": null,
      "grid_column": null,
      "grid_gap": null,
      "grid_row": null,
      "grid_template_areas": null,
      "grid_template_columns": null,
      "grid_template_rows": null,
      "height": null,
      "justify_content": null,
      "justify_items": null,
      "left": null,
      "margin": null,
      "max_height": null,
      "max_width": null,
      "min_height": null,
      "min_width": null,
      "object_fit": null,
      "object_position": null,
      "order": null,
      "overflow": null,
      "overflow_x": null,
      "overflow_y": null,
      "padding": null,
      "right": null,
      "top": null,
      "visibility": null,
      "width": null
     }
    },
    "e4a803591b794a428186aec9fd135c47": {
     "model_module": "@jupyter-widgets/base",
     "model_module_version": "1.2.0",
     "model_name": "LayoutModel",
     "state": {
      "_model_module": "@jupyter-widgets/base",
      "_model_module_version": "1.2.0",
      "_model_name": "LayoutModel",
      "_view_count": null,
      "_view_module": "@jupyter-widgets/base",
      "_view_module_version": "1.2.0",
      "_view_name": "LayoutView",
      "align_content": null,
      "align_items": null,
      "align_self": null,
      "border": null,
      "bottom": null,
      "display": null,
      "flex": null,
      "flex_flow": null,
      "grid_area": null,
      "grid_auto_columns": null,
      "grid_auto_flow": null,
      "grid_auto_rows": null,
      "grid_column": null,
      "grid_gap": null,
      "grid_row": null,
      "grid_template_areas": null,
      "grid_template_columns": null,
      "grid_template_rows": null,
      "height": null,
      "justify_content": null,
      "justify_items": null,
      "left": null,
      "margin": null,
      "max_height": null,
      "max_width": null,
      "min_height": null,
      "min_width": null,
      "object_fit": null,
      "object_position": null,
      "order": null,
      "overflow": null,
      "overflow_x": null,
      "overflow_y": null,
      "padding": null,
      "right": null,
      "top": null,
      "visibility": null,
      "width": null
     }
    },
    "eb224cbd3bd445249e66adf1abd2d199": {
     "model_module": "@jupyter-widgets/base",
     "model_module_version": "1.2.0",
     "model_name": "LayoutModel",
     "state": {
      "_model_module": "@jupyter-widgets/base",
      "_model_module_version": "1.2.0",
      "_model_name": "LayoutModel",
      "_view_count": null,
      "_view_module": "@jupyter-widgets/base",
      "_view_module_version": "1.2.0",
      "_view_name": "LayoutView",
      "align_content": null,
      "align_items": null,
      "align_self": null,
      "border": null,
      "bottom": null,
      "display": null,
      "flex": null,
      "flex_flow": null,
      "grid_area": null,
      "grid_auto_columns": null,
      "grid_auto_flow": null,
      "grid_auto_rows": null,
      "grid_column": null,
      "grid_gap": null,
      "grid_row": null,
      "grid_template_areas": null,
      "grid_template_columns": null,
      "grid_template_rows": null,
      "height": null,
      "justify_content": null,
      "justify_items": null,
      "left": null,
      "margin": null,
      "max_height": null,
      "max_width": null,
      "min_height": null,
      "min_width": null,
      "object_fit": null,
      "object_position": null,
      "order": null,
      "overflow": null,
      "overflow_x": null,
      "overflow_y": null,
      "padding": null,
      "right": null,
      "top": null,
      "visibility": null,
      "width": null
     }
    }
   }
  }
 },
 "nbformat": 4,
 "nbformat_minor": 1
}
